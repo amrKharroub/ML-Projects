{
  "nbformat": 4,
  "nbformat_minor": 0,
  "metadata": {
    "colab": {
      "provenance": [],
      "collapsed_sections": [
        "1SmXps54or21",
        "VAa-u8pnEzh1"
      ]
    },
    "kernelspec": {
      "name": "python3",
      "display_name": "Python 3"
    },
    "language_info": {
      "name": "python"
    }
  },
  "cells": [
    {
      "cell_type": "markdown",
      "source": [
        "# Human Activity Recognition with samrtphone\n",
        "\n",
        "This notebook explores various machine learning techniques for classification tasks. We begin by applying random forest to filter the dataset, aiming to improve model performance and reduce overfitting. Subsequently, we employ logistic regression, multilayer perceptron (MLP), and one-dimensional convolutional neural networks (Conv1D) to build and evaluate classification models. The goal is to compare the effectiveness of these approaches and identify the most suitable method for our given problem."
      ],
      "metadata": {
        "id": "UpgrM3KcQEBn"
      }
    },
    {
      "cell_type": "markdown",
      "source": [
        "## Downloading and Imports"
      ],
      "metadata": {
        "id": "1SmXps54or21"
      }
    },
    {
      "cell_type": "code",
      "execution_count": null,
      "metadata": {
        "collapsed": true,
        "id": "cawtliCtDQV5"
      },
      "outputs": [],
      "source": [
        "!pip install -Uqq fastai"
      ]
    },
    {
      "cell_type": "code",
      "source": [
        "import pandas as pd\n",
        "from fastai.tabular.all import *\n",
        "from sklearn.ensemble import RandomForestClassifier\n",
        "from sklearn.tree import DecisionTreeClassifier\n",
        "from sklearn.decomposition import PCA\n",
        "from sklearn.preprocessing import StandardScaler, LabelEncoder\n",
        "from sklearn.metrics import f1_score, accuracy_score\n",
        "from sklearn.linear_model import LogisticRegression\n",
        "import matplotlib.pyplot as plt\n",
        "from fastai.vision.all import *"
      ],
      "metadata": {
        "id": "T2NZWhJxDySf"
      },
      "execution_count": null,
      "outputs": []
    },
    {
      "cell_type": "code",
      "source": [
        "creds = ''"
      ],
      "metadata": {
        "id": "6A_zqQeEEWeZ"
      },
      "execution_count": null,
      "outputs": []
    },
    {
      "cell_type": "code",
      "source": [
        "cred_path = Path('~/.kaggle/kaggle.json').expanduser()\n",
        "if not cred_path.exists():\n",
        "    print(\"writing cred to a file in {}\".format(cred_path))\n",
        "    cred_path.parent.mkdir(exist_ok=True)\n",
        "    cred_path.write_text(creds)\n",
        "    cred_path.chmod(0o600)"
      ],
      "metadata": {
        "id": "wGkvz_hcEL_l",
        "colab": {
          "base_uri": "https://localhost:8080/"
        },
        "outputId": "6ee173eb-d1b7-4b62-b35f-a6d264145ca9"
      },
      "execution_count": null,
      "outputs": [
        {
          "output_type": "stream",
          "name": "stdout",
          "text": [
            "writing cred to a file in /root/.kaggle/kaggle.json\n"
          ]
        }
      ]
    },
    {
      "cell_type": "code",
      "source": [
        "!kaggle datasets download -d uciml/human-activity-recognition-with-smartphones"
      ],
      "metadata": {
        "colab": {
          "base_uri": "https://localhost:8080/"
        },
        "id": "B6EndGdVEZSx",
        "outputId": "97aeb008-ecee-4f0d-fd5b-d5c0e37f60ec"
      },
      "execution_count": null,
      "outputs": [
        {
          "output_type": "stream",
          "name": "stdout",
          "text": [
            "Dataset URL: https://www.kaggle.com/datasets/uciml/human-activity-recognition-with-smartphones\n",
            "License(s): CC0-1.0\n",
            "Downloading human-activity-recognition-with-smartphones.zip to /content\n",
            " 53% 13.0M/24.5M [00:00<00:00, 60.5MB/s]\n",
            "100% 24.5M/24.5M [00:00<00:00, 77.3MB/s]\n"
          ]
        }
      ]
    },
    {
      "cell_type": "code",
      "source": [
        "path = Path(\"/content/data\")\n",
        "if not path.exists():\n",
        "  path.parent.mkdir(exist_ok=True)\n",
        "  path.mkdir(exist_ok=True)\n",
        "\n",
        "shutil.unpack_archive('/content/human-activity-recognition-with-smartphones.zip', str(path))\n",
        "\n",
        "path.ls()"
      ],
      "metadata": {
        "colab": {
          "base_uri": "https://localhost:8080/"
        },
        "id": "yh9hK7BhFBMl",
        "outputId": "a0c016ef-f15a-4f82-9a97-9435ab52ec82"
      },
      "execution_count": null,
      "outputs": [
        {
          "output_type": "execute_result",
          "data": {
            "text/plain": [
              "(#2) [Path('/content/data/train.csv'),Path('/content/data/test.csv')]"
            ]
          },
          "metadata": {},
          "execution_count": 6
        }
      ]
    },
    {
      "cell_type": "markdown",
      "source": [
        "## Looking at the Data"
      ],
      "metadata": {
        "id": "VAa-u8pnEzh1"
      }
    },
    {
      "cell_type": "code",
      "source": [
        "df = pd.read_csv(path/\"train.csv\", low_memory=False)\n",
        "df_test = pd.read_csv(path/\"test.csv\", low_memory=False)"
      ],
      "metadata": {
        "id": "4HXwrx9REj1X"
      },
      "execution_count": null,
      "outputs": []
    },
    {
      "cell_type": "code",
      "source": [
        "df.columns"
      ],
      "metadata": {
        "colab": {
          "base_uri": "https://localhost:8080/"
        },
        "id": "wRyiaKv2GWrw",
        "outputId": "bb0031a8-4d61-4f5a-cd95-12da099cc3a4"
      },
      "execution_count": null,
      "outputs": [
        {
          "output_type": "execute_result",
          "data": {
            "text/plain": [
              "Index(['tBodyAcc-mean()-X', 'tBodyAcc-mean()-Y', 'tBodyAcc-mean()-Z',\n",
              "       'tBodyAcc-std()-X', 'tBodyAcc-std()-Y', 'tBodyAcc-std()-Z',\n",
              "       'tBodyAcc-mad()-X', 'tBodyAcc-mad()-Y', 'tBodyAcc-mad()-Z',\n",
              "       'tBodyAcc-max()-X',\n",
              "       ...\n",
              "       'fBodyBodyGyroJerkMag-kurtosis()', 'angle(tBodyAccMean,gravity)',\n",
              "       'angle(tBodyAccJerkMean),gravityMean)',\n",
              "       'angle(tBodyGyroMean,gravityMean)',\n",
              "       'angle(tBodyGyroJerkMean,gravityMean)', 'angle(X,gravityMean)',\n",
              "       'angle(Y,gravityMean)', 'angle(Z,gravityMean)', 'subject', 'Activity'],\n",
              "      dtype='object', length=563)"
            ]
          },
          "metadata": {},
          "execution_count": 8
        }
      ]
    },
    {
      "cell_type": "code",
      "source": [
        "df.info()"
      ],
      "metadata": {
        "colab": {
          "base_uri": "https://localhost:8080/"
        },
        "id": "vegB9R28GZm7",
        "outputId": "634032d7-2273-43ba-d048-6b3ef2d10a25"
      },
      "execution_count": null,
      "outputs": [
        {
          "output_type": "stream",
          "name": "stdout",
          "text": [
            "<class 'pandas.core.frame.DataFrame'>\n",
            "RangeIndex: 7352 entries, 0 to 7351\n",
            "Columns: 563 entries, tBodyAcc-mean()-X to Activity\n",
            "dtypes: float64(561), int64(1), object(1)\n",
            "memory usage: 31.6+ MB\n"
          ]
        }
      ]
    },
    {
      "cell_type": "code",
      "source": [
        "df_test.info()"
      ],
      "metadata": {
        "colab": {
          "base_uri": "https://localhost:8080/"
        },
        "id": "dqD2cINVjjI7",
        "outputId": "05744a2a-2c07-42c6-aae4-eeefbbecc42a"
      },
      "execution_count": null,
      "outputs": [
        {
          "output_type": "stream",
          "name": "stdout",
          "text": [
            "<class 'pandas.core.frame.DataFrame'>\n",
            "RangeIndex: 2947 entries, 0 to 2946\n",
            "Columns: 563 entries, tBodyAcc-mean()-X to Activity\n",
            "dtypes: float64(561), int64(1), object(1)\n",
            "memory usage: 12.7+ MB\n"
          ]
        }
      ]
    },
    {
      "cell_type": "code",
      "source": [
        "df[\"Activity\"].dtype"
      ],
      "metadata": {
        "colab": {
          "base_uri": "https://localhost:8080/"
        },
        "id": "iLIvU0juGfvW",
        "outputId": "d2c35d0c-dfd3-4c40-9ffe-f7ce0be46129"
      },
      "execution_count": null,
      "outputs": [
        {
          "output_type": "execute_result",
          "data": {
            "text/plain": [
              "dtype('O')"
            ]
          },
          "metadata": {},
          "execution_count": 11
        }
      ]
    },
    {
      "cell_type": "code",
      "source": [
        "df[\"Activity\"].head()"
      ],
      "metadata": {
        "colab": {
          "base_uri": "https://localhost:8080/",
          "height": 241
        },
        "id": "azv6YlndG852",
        "outputId": "5252ed3c-5d9d-44c3-e1f8-60f3496e8def"
      },
      "execution_count": null,
      "outputs": [
        {
          "output_type": "execute_result",
          "data": {
            "text/plain": [
              "0    STANDING\n",
              "1    STANDING\n",
              "2    STANDING\n",
              "3    STANDING\n",
              "4    STANDING\n",
              "Name: Activity, dtype: object"
            ],
            "text/html": [
              "<div>\n",
              "<style scoped>\n",
              "    .dataframe tbody tr th:only-of-type {\n",
              "        vertical-align: middle;\n",
              "    }\n",
              "\n",
              "    .dataframe tbody tr th {\n",
              "        vertical-align: top;\n",
              "    }\n",
              "\n",
              "    .dataframe thead th {\n",
              "        text-align: right;\n",
              "    }\n",
              "</style>\n",
              "<table border=\"1\" class=\"dataframe\">\n",
              "  <thead>\n",
              "    <tr style=\"text-align: right;\">\n",
              "      <th></th>\n",
              "      <th>Activity</th>\n",
              "    </tr>\n",
              "  </thead>\n",
              "  <tbody>\n",
              "    <tr>\n",
              "      <th>0</th>\n",
              "      <td>STANDING</td>\n",
              "    </tr>\n",
              "    <tr>\n",
              "      <th>1</th>\n",
              "      <td>STANDING</td>\n",
              "    </tr>\n",
              "    <tr>\n",
              "      <th>2</th>\n",
              "      <td>STANDING</td>\n",
              "    </tr>\n",
              "    <tr>\n",
              "      <th>3</th>\n",
              "      <td>STANDING</td>\n",
              "    </tr>\n",
              "    <tr>\n",
              "      <th>4</th>\n",
              "      <td>STANDING</td>\n",
              "    </tr>\n",
              "  </tbody>\n",
              "</table>\n",
              "</div><br><label><b>dtype:</b> object</label>"
            ]
          },
          "metadata": {},
          "execution_count": 12
        }
      ]
    },
    {
      "cell_type": "code",
      "source": [
        "df[\"Activity\"].unique()"
      ],
      "metadata": {
        "colab": {
          "base_uri": "https://localhost:8080/"
        },
        "id": "hqQ00FEQHBXW",
        "outputId": "d4bf3a68-226b-42f0-a11d-f59ab097a7fd"
      },
      "execution_count": null,
      "outputs": [
        {
          "output_type": "execute_result",
          "data": {
            "text/plain": [
              "array(['STANDING', 'SITTING', 'LAYING', 'WALKING', 'WALKING_DOWNSTAIRS',\n",
              "       'WALKING_UPSTAIRS'], dtype=object)"
            ]
          },
          "metadata": {},
          "execution_count": 13
        }
      ]
    },
    {
      "cell_type": "code",
      "source": [
        "df[\"Activity\"].value_counts()"
      ],
      "metadata": {
        "colab": {
          "base_uri": "https://localhost:8080/",
          "height": 304
        },
        "id": "CmBAqQ4pHE_x",
        "outputId": "b53b60d8-a995-49df-d4b7-5ec3e22c7031"
      },
      "execution_count": null,
      "outputs": [
        {
          "output_type": "execute_result",
          "data": {
            "text/plain": [
              "Activity\n",
              "LAYING                1407\n",
              "STANDING              1374\n",
              "SITTING               1286\n",
              "WALKING               1226\n",
              "WALKING_UPSTAIRS      1073\n",
              "WALKING_DOWNSTAIRS     986\n",
              "Name: count, dtype: int64"
            ],
            "text/html": [
              "<div>\n",
              "<style scoped>\n",
              "    .dataframe tbody tr th:only-of-type {\n",
              "        vertical-align: middle;\n",
              "    }\n",
              "\n",
              "    .dataframe tbody tr th {\n",
              "        vertical-align: top;\n",
              "    }\n",
              "\n",
              "    .dataframe thead th {\n",
              "        text-align: right;\n",
              "    }\n",
              "</style>\n",
              "<table border=\"1\" class=\"dataframe\">\n",
              "  <thead>\n",
              "    <tr style=\"text-align: right;\">\n",
              "      <th></th>\n",
              "      <th>count</th>\n",
              "    </tr>\n",
              "    <tr>\n",
              "      <th>Activity</th>\n",
              "      <th></th>\n",
              "    </tr>\n",
              "  </thead>\n",
              "  <tbody>\n",
              "    <tr>\n",
              "      <th>LAYING</th>\n",
              "      <td>1407</td>\n",
              "    </tr>\n",
              "    <tr>\n",
              "      <th>STANDING</th>\n",
              "      <td>1374</td>\n",
              "    </tr>\n",
              "    <tr>\n",
              "      <th>SITTING</th>\n",
              "      <td>1286</td>\n",
              "    </tr>\n",
              "    <tr>\n",
              "      <th>WALKING</th>\n",
              "      <td>1226</td>\n",
              "    </tr>\n",
              "    <tr>\n",
              "      <th>WALKING_UPSTAIRS</th>\n",
              "      <td>1073</td>\n",
              "    </tr>\n",
              "    <tr>\n",
              "      <th>WALKING_DOWNSTAIRS</th>\n",
              "      <td>986</td>\n",
              "    </tr>\n",
              "  </tbody>\n",
              "</table>\n",
              "</div><br><label><b>dtype:</b> int64</label>"
            ]
          },
          "metadata": {},
          "execution_count": 14
        }
      ]
    },
    {
      "cell_type": "code",
      "source": [
        "dep_variable = \"Activity\"\n",
        "X_train = df.drop(dep_variable, axis=1)\n",
        "X_test = df_test.drop(dep_variable, axis=1)\n",
        "y_train = df[dep_variable]\n",
        "y_test = df_test[dep_variable]\n",
        "\n",
        "le = LabelEncoder()\n",
        "y_train = le.fit_transform(y_train)\n",
        "y_test = le.transform(y_test)"
      ],
      "metadata": {
        "id": "kZp0efLfHLhE"
      },
      "execution_count": null,
      "outputs": []
    },
    {
      "cell_type": "markdown",
      "source": [
        "## Feature Selection\n",
        "\n",
        "With high dimensional data feature selection is important to reduce overfitting, lowering training time, and improve inference perfermance.\n",
        "\n",
        "In this section we will try some techniques to filter out unnessecary or low importance data"
      ],
      "metadata": {
        "id": "3SWGy91fpOr9"
      }
    },
    {
      "cell_type": "markdown",
      "source": [
        "### Removing duplicate Columns"
      ],
      "metadata": {
        "id": "7QDQQ9jmu-5O"
      }
    },
    {
      "cell_type": "code",
      "source": [
        "def get_duplicate_columns(df):\n",
        "\n",
        "    duplicate_columns = {}\n",
        "    seen_columns = {}\n",
        "\n",
        "    for column in df.columns:\n",
        "        current_column = df[column]\n",
        "\n",
        "        # Convert column data to bytes\n",
        "        try:\n",
        "            current_column_hash = current_column.values.tobytes()\n",
        "        except AttributeError:\n",
        "            current_column_hash = current_column.to_string().encode()\n",
        "        if current_column_hash in seen_columns:\n",
        "            if seen_columns[current_column_hash] in duplicate_columns:\n",
        "                duplicate_columns[seen_columns[current_column_hash]].append(column)\n",
        "            else:\n",
        "                duplicate_columns[seen_columns[current_column_hash]] = [column]\n",
        "        else:\n",
        "            seen_columns[current_column_hash] = column\n",
        "\n",
        "    return duplicate_columns"
      ],
      "metadata": {
        "id": "nY1i_Eowu-e9"
      },
      "execution_count": null,
      "outputs": []
    },
    {
      "cell_type": "code",
      "source": [
        "duplicate_columns = get_duplicate_columns(X_train)\n",
        "duplicate_columns"
      ],
      "metadata": {
        "colab": {
          "base_uri": "https://localhost:8080/"
        },
        "id": "SWy2wfu1wGRQ",
        "outputId": "44cc86e7-64da-4067-d069-42c287f61a38"
      },
      "execution_count": null,
      "outputs": [
        {
          "output_type": "execute_result",
          "data": {
            "text/plain": [
              "{'tBodyAccMag-mean()': ['tBodyAccMag-sma()',\n",
              "  'tGravityAccMag-mean()',\n",
              "  'tGravityAccMag-sma()'],\n",
              " 'tBodyAccMag-std()': ['tGravityAccMag-std()'],\n",
              " 'tBodyAccMag-mad()': ['tGravityAccMag-mad()'],\n",
              " 'tBodyAccMag-max()': ['tGravityAccMag-max()'],\n",
              " 'tBodyAccMag-min()': ['tGravityAccMag-min()'],\n",
              " 'tBodyAccMag-energy()': ['tGravityAccMag-energy()'],\n",
              " 'tBodyAccMag-iqr()': ['tGravityAccMag-iqr()'],\n",
              " 'tBodyAccMag-entropy()': ['tGravityAccMag-entropy()'],\n",
              " 'tBodyAccMag-arCoeff()1': ['tGravityAccMag-arCoeff()1'],\n",
              " 'tBodyAccMag-arCoeff()2': ['tGravityAccMag-arCoeff()2'],\n",
              " 'tBodyAccMag-arCoeff()3': ['tGravityAccMag-arCoeff()3'],\n",
              " 'tBodyAccMag-arCoeff()4': ['tGravityAccMag-arCoeff()4'],\n",
              " 'tBodyAccJerkMag-mean()': ['tBodyAccJerkMag-sma()'],\n",
              " 'tBodyGyroMag-mean()': ['tBodyGyroMag-sma()'],\n",
              " 'tBodyGyroJerkMag-mean()': ['tBodyGyroJerkMag-sma()'],\n",
              " 'fBodyAccMag-mean()': ['fBodyAccMag-sma()'],\n",
              " 'fBodyBodyAccJerkMag-mean()': ['fBodyBodyAccJerkMag-sma()'],\n",
              " 'fBodyBodyGyroMag-mean()': ['fBodyBodyGyroMag-sma()'],\n",
              " 'fBodyBodyGyroJerkMag-mean()': ['fBodyBodyGyroJerkMag-sma()']}"
            ]
          },
          "metadata": {},
          "execution_count": 17
        }
      ]
    },
    {
      "cell_type": "code",
      "source": [
        "X_train[['tBodyAccMag-mean()','tBodyAccMag-sma()','tGravityAccMag-mean()','tGravityAccMag-sma()']]"
      ],
      "metadata": {
        "colab": {
          "base_uri": "https://localhost:8080/",
          "height": 424
        },
        "id": "MGlabkfJx-tt",
        "outputId": "f53fc1fc-9474-4d27-de14-839d0f9dc87a"
      },
      "execution_count": null,
      "outputs": [
        {
          "output_type": "execute_result",
          "data": {
            "text/plain": [
              "      tBodyAccMag-mean()  tBodyAccMag-sma()  tGravityAccMag-mean()  \\\n",
              "0              -0.959434          -0.959434              -0.959434   \n",
              "1              -0.979289          -0.979289              -0.979289   \n",
              "2              -0.983703          -0.983703              -0.983703   \n",
              "3              -0.986542          -0.986542              -0.986542   \n",
              "4              -0.992827          -0.992827              -0.992827   \n",
              "...                  ...                ...                    ...   \n",
              "7347           -0.031719          -0.031719              -0.031719   \n",
              "7348           -0.065256          -0.065256              -0.065256   \n",
              "7349           -0.003936          -0.003936              -0.003936   \n",
              "7350           -0.002445          -0.002445              -0.002445   \n",
              "7351           -0.049090          -0.049090              -0.049090   \n",
              "\n",
              "      tGravityAccMag-sma()  \n",
              "0                -0.959434  \n",
              "1                -0.979289  \n",
              "2                -0.983703  \n",
              "3                -0.986542  \n",
              "4                -0.992827  \n",
              "...                    ...  \n",
              "7347             -0.031719  \n",
              "7348             -0.065256  \n",
              "7349             -0.003936  \n",
              "7350             -0.002445  \n",
              "7351             -0.049090  \n",
              "\n",
              "[7352 rows x 4 columns]"
            ],
            "text/html": [
              "\n",
              "  <div id=\"df-7c8c7b82-c65e-4fca-aa4f-e77602b7a471\" class=\"colab-df-container\">\n",
              "    <div>\n",
              "<style scoped>\n",
              "    .dataframe tbody tr th:only-of-type {\n",
              "        vertical-align: middle;\n",
              "    }\n",
              "\n",
              "    .dataframe tbody tr th {\n",
              "        vertical-align: top;\n",
              "    }\n",
              "\n",
              "    .dataframe thead th {\n",
              "        text-align: right;\n",
              "    }\n",
              "</style>\n",
              "<table border=\"1\" class=\"dataframe\">\n",
              "  <thead>\n",
              "    <tr style=\"text-align: right;\">\n",
              "      <th></th>\n",
              "      <th>tBodyAccMag-mean()</th>\n",
              "      <th>tBodyAccMag-sma()</th>\n",
              "      <th>tGravityAccMag-mean()</th>\n",
              "      <th>tGravityAccMag-sma()</th>\n",
              "    </tr>\n",
              "  </thead>\n",
              "  <tbody>\n",
              "    <tr>\n",
              "      <th>0</th>\n",
              "      <td>-0.959434</td>\n",
              "      <td>-0.959434</td>\n",
              "      <td>-0.959434</td>\n",
              "      <td>-0.959434</td>\n",
              "    </tr>\n",
              "    <tr>\n",
              "      <th>1</th>\n",
              "      <td>-0.979289</td>\n",
              "      <td>-0.979289</td>\n",
              "      <td>-0.979289</td>\n",
              "      <td>-0.979289</td>\n",
              "    </tr>\n",
              "    <tr>\n",
              "      <th>2</th>\n",
              "      <td>-0.983703</td>\n",
              "      <td>-0.983703</td>\n",
              "      <td>-0.983703</td>\n",
              "      <td>-0.983703</td>\n",
              "    </tr>\n",
              "    <tr>\n",
              "      <th>3</th>\n",
              "      <td>-0.986542</td>\n",
              "      <td>-0.986542</td>\n",
              "      <td>-0.986542</td>\n",
              "      <td>-0.986542</td>\n",
              "    </tr>\n",
              "    <tr>\n",
              "      <th>4</th>\n",
              "      <td>-0.992827</td>\n",
              "      <td>-0.992827</td>\n",
              "      <td>-0.992827</td>\n",
              "      <td>-0.992827</td>\n",
              "    </tr>\n",
              "    <tr>\n",
              "      <th>...</th>\n",
              "      <td>...</td>\n",
              "      <td>...</td>\n",
              "      <td>...</td>\n",
              "      <td>...</td>\n",
              "    </tr>\n",
              "    <tr>\n",
              "      <th>7347</th>\n",
              "      <td>-0.031719</td>\n",
              "      <td>-0.031719</td>\n",
              "      <td>-0.031719</td>\n",
              "      <td>-0.031719</td>\n",
              "    </tr>\n",
              "    <tr>\n",
              "      <th>7348</th>\n",
              "      <td>-0.065256</td>\n",
              "      <td>-0.065256</td>\n",
              "      <td>-0.065256</td>\n",
              "      <td>-0.065256</td>\n",
              "    </tr>\n",
              "    <tr>\n",
              "      <th>7349</th>\n",
              "      <td>-0.003936</td>\n",
              "      <td>-0.003936</td>\n",
              "      <td>-0.003936</td>\n",
              "      <td>-0.003936</td>\n",
              "    </tr>\n",
              "    <tr>\n",
              "      <th>7350</th>\n",
              "      <td>-0.002445</td>\n",
              "      <td>-0.002445</td>\n",
              "      <td>-0.002445</td>\n",
              "      <td>-0.002445</td>\n",
              "    </tr>\n",
              "    <tr>\n",
              "      <th>7351</th>\n",
              "      <td>-0.049090</td>\n",
              "      <td>-0.049090</td>\n",
              "      <td>-0.049090</td>\n",
              "      <td>-0.049090</td>\n",
              "    </tr>\n",
              "  </tbody>\n",
              "</table>\n",
              "<p>7352 rows × 4 columns</p>\n",
              "</div>\n",
              "    <div class=\"colab-df-buttons\">\n",
              "\n",
              "  <div class=\"colab-df-container\">\n",
              "    <button class=\"colab-df-convert\" onclick=\"convertToInteractive('df-7c8c7b82-c65e-4fca-aa4f-e77602b7a471')\"\n",
              "            title=\"Convert this dataframe to an interactive table.\"\n",
              "            style=\"display:none;\">\n",
              "\n",
              "  <svg xmlns=\"http://www.w3.org/2000/svg\" height=\"24px\" viewBox=\"0 -960 960 960\">\n",
              "    <path d=\"M120-120v-720h720v720H120Zm60-500h600v-160H180v160Zm220 220h160v-160H400v160Zm0 220h160v-160H400v160ZM180-400h160v-160H180v160Zm440 0h160v-160H620v160ZM180-180h160v-160H180v160Zm440 0h160v-160H620v160Z\"/>\n",
              "  </svg>\n",
              "    </button>\n",
              "\n",
              "  <style>\n",
              "    .colab-df-container {\n",
              "      display:flex;\n",
              "      gap: 12px;\n",
              "    }\n",
              "\n",
              "    .colab-df-convert {\n",
              "      background-color: #E8F0FE;\n",
              "      border: none;\n",
              "      border-radius: 50%;\n",
              "      cursor: pointer;\n",
              "      display: none;\n",
              "      fill: #1967D2;\n",
              "      height: 32px;\n",
              "      padding: 0 0 0 0;\n",
              "      width: 32px;\n",
              "    }\n",
              "\n",
              "    .colab-df-convert:hover {\n",
              "      background-color: #E2EBFA;\n",
              "      box-shadow: 0px 1px 2px rgba(60, 64, 67, 0.3), 0px 1px 3px 1px rgba(60, 64, 67, 0.15);\n",
              "      fill: #174EA6;\n",
              "    }\n",
              "\n",
              "    .colab-df-buttons div {\n",
              "      margin-bottom: 4px;\n",
              "    }\n",
              "\n",
              "    [theme=dark] .colab-df-convert {\n",
              "      background-color: #3B4455;\n",
              "      fill: #D2E3FC;\n",
              "    }\n",
              "\n",
              "    [theme=dark] .colab-df-convert:hover {\n",
              "      background-color: #434B5C;\n",
              "      box-shadow: 0px 1px 3px 1px rgba(0, 0, 0, 0.15);\n",
              "      filter: drop-shadow(0px 1px 2px rgba(0, 0, 0, 0.3));\n",
              "      fill: #FFFFFF;\n",
              "    }\n",
              "  </style>\n",
              "\n",
              "    <script>\n",
              "      const buttonEl =\n",
              "        document.querySelector('#df-7c8c7b82-c65e-4fca-aa4f-e77602b7a471 button.colab-df-convert');\n",
              "      buttonEl.style.display =\n",
              "        google.colab.kernel.accessAllowed ? 'block' : 'none';\n",
              "\n",
              "      async function convertToInteractive(key) {\n",
              "        const element = document.querySelector('#df-7c8c7b82-c65e-4fca-aa4f-e77602b7a471');\n",
              "        const dataTable =\n",
              "          await google.colab.kernel.invokeFunction('convertToInteractive',\n",
              "                                                    [key], {});\n",
              "        if (!dataTable) return;\n",
              "\n",
              "        const docLinkHtml = 'Like what you see? Visit the ' +\n",
              "          '<a target=\"_blank\" href=https://colab.research.google.com/notebooks/data_table.ipynb>data table notebook</a>'\n",
              "          + ' to learn more about interactive tables.';\n",
              "        element.innerHTML = '';\n",
              "        dataTable['output_type'] = 'display_data';\n",
              "        await google.colab.output.renderOutput(dataTable, element);\n",
              "        const docLink = document.createElement('div');\n",
              "        docLink.innerHTML = docLinkHtml;\n",
              "        element.appendChild(docLink);\n",
              "      }\n",
              "    </script>\n",
              "  </div>\n",
              "\n",
              "\n",
              "<div id=\"df-bc1e7895-0aeb-438e-af52-f12e405ae50f\">\n",
              "  <button class=\"colab-df-quickchart\" onclick=\"quickchart('df-bc1e7895-0aeb-438e-af52-f12e405ae50f')\"\n",
              "            title=\"Suggest charts\"\n",
              "            style=\"display:none;\">\n",
              "\n",
              "<svg xmlns=\"http://www.w3.org/2000/svg\" height=\"24px\"viewBox=\"0 0 24 24\"\n",
              "     width=\"24px\">\n",
              "    <g>\n",
              "        <path d=\"M19 3H5c-1.1 0-2 .9-2 2v14c0 1.1.9 2 2 2h14c1.1 0 2-.9 2-2V5c0-1.1-.9-2-2-2zM9 17H7v-7h2v7zm4 0h-2V7h2v10zm4 0h-2v-4h2v4z\"/>\n",
              "    </g>\n",
              "</svg>\n",
              "  </button>\n",
              "\n",
              "<style>\n",
              "  .colab-df-quickchart {\n",
              "      --bg-color: #E8F0FE;\n",
              "      --fill-color: #1967D2;\n",
              "      --hover-bg-color: #E2EBFA;\n",
              "      --hover-fill-color: #174EA6;\n",
              "      --disabled-fill-color: #AAA;\n",
              "      --disabled-bg-color: #DDD;\n",
              "  }\n",
              "\n",
              "  [theme=dark] .colab-df-quickchart {\n",
              "      --bg-color: #3B4455;\n",
              "      --fill-color: #D2E3FC;\n",
              "      --hover-bg-color: #434B5C;\n",
              "      --hover-fill-color: #FFFFFF;\n",
              "      --disabled-bg-color: #3B4455;\n",
              "      --disabled-fill-color: #666;\n",
              "  }\n",
              "\n",
              "  .colab-df-quickchart {\n",
              "    background-color: var(--bg-color);\n",
              "    border: none;\n",
              "    border-radius: 50%;\n",
              "    cursor: pointer;\n",
              "    display: none;\n",
              "    fill: var(--fill-color);\n",
              "    height: 32px;\n",
              "    padding: 0;\n",
              "    width: 32px;\n",
              "  }\n",
              "\n",
              "  .colab-df-quickchart:hover {\n",
              "    background-color: var(--hover-bg-color);\n",
              "    box-shadow: 0 1px 2px rgba(60, 64, 67, 0.3), 0 1px 3px 1px rgba(60, 64, 67, 0.15);\n",
              "    fill: var(--button-hover-fill-color);\n",
              "  }\n",
              "\n",
              "  .colab-df-quickchart-complete:disabled,\n",
              "  .colab-df-quickchart-complete:disabled:hover {\n",
              "    background-color: var(--disabled-bg-color);\n",
              "    fill: var(--disabled-fill-color);\n",
              "    box-shadow: none;\n",
              "  }\n",
              "\n",
              "  .colab-df-spinner {\n",
              "    border: 2px solid var(--fill-color);\n",
              "    border-color: transparent;\n",
              "    border-bottom-color: var(--fill-color);\n",
              "    animation:\n",
              "      spin 1s steps(1) infinite;\n",
              "  }\n",
              "\n",
              "  @keyframes spin {\n",
              "    0% {\n",
              "      border-color: transparent;\n",
              "      border-bottom-color: var(--fill-color);\n",
              "      border-left-color: var(--fill-color);\n",
              "    }\n",
              "    20% {\n",
              "      border-color: transparent;\n",
              "      border-left-color: var(--fill-color);\n",
              "      border-top-color: var(--fill-color);\n",
              "    }\n",
              "    30% {\n",
              "      border-color: transparent;\n",
              "      border-left-color: var(--fill-color);\n",
              "      border-top-color: var(--fill-color);\n",
              "      border-right-color: var(--fill-color);\n",
              "    }\n",
              "    40% {\n",
              "      border-color: transparent;\n",
              "      border-right-color: var(--fill-color);\n",
              "      border-top-color: var(--fill-color);\n",
              "    }\n",
              "    60% {\n",
              "      border-color: transparent;\n",
              "      border-right-color: var(--fill-color);\n",
              "    }\n",
              "    80% {\n",
              "      border-color: transparent;\n",
              "      border-right-color: var(--fill-color);\n",
              "      border-bottom-color: var(--fill-color);\n",
              "    }\n",
              "    90% {\n",
              "      border-color: transparent;\n",
              "      border-bottom-color: var(--fill-color);\n",
              "    }\n",
              "  }\n",
              "</style>\n",
              "\n",
              "  <script>\n",
              "    async function quickchart(key) {\n",
              "      const quickchartButtonEl =\n",
              "        document.querySelector('#' + key + ' button');\n",
              "      quickchartButtonEl.disabled = true;  // To prevent multiple clicks.\n",
              "      quickchartButtonEl.classList.add('colab-df-spinner');\n",
              "      try {\n",
              "        const charts = await google.colab.kernel.invokeFunction(\n",
              "            'suggestCharts', [key], {});\n",
              "      } catch (error) {\n",
              "        console.error('Error during call to suggestCharts:', error);\n",
              "      }\n",
              "      quickchartButtonEl.classList.remove('colab-df-spinner');\n",
              "      quickchartButtonEl.classList.add('colab-df-quickchart-complete');\n",
              "    }\n",
              "    (() => {\n",
              "      let quickchartButtonEl =\n",
              "        document.querySelector('#df-bc1e7895-0aeb-438e-af52-f12e405ae50f button');\n",
              "      quickchartButtonEl.style.display =\n",
              "        google.colab.kernel.accessAllowed ? 'block' : 'none';\n",
              "    })();\n",
              "  </script>\n",
              "</div>\n",
              "\n",
              "    </div>\n",
              "  </div>\n"
            ],
            "application/vnd.google.colaboratory.intrinsic+json": {
              "type": "dataframe",
              "summary": "{\n  \"name\": \"X_train[['tBodyAccMag-mean()','tBodyAccMag-sma()','tGravityAccMag-mean()','tGravityAccMag-sma()']]\",\n  \"rows\": 7352,\n  \"fields\": [\n    {\n      \"column\": \"tBodyAccMag-mean()\",\n      \"properties\": {\n        \"dtype\": \"number\",\n        \"std\": 0.4776531101871754,\n        \"min\": -1.0,\n        \"max\": 1.0,\n        \"num_unique_values\": 7350,\n        \"samples\": [\n          -0.81840681,\n          0.17305652,\n          -0.22769307\n        ],\n        \"semantic_type\": \"\",\n        \"description\": \"\"\n      }\n    },\n    {\n      \"column\": \"tBodyAccMag-sma()\",\n      \"properties\": {\n        \"dtype\": \"number\",\n        \"std\": 0.4776531101871754,\n        \"min\": -1.0,\n        \"max\": 1.0,\n        \"num_unique_values\": 7350,\n        \"samples\": [\n          -0.81840681,\n          0.17305652,\n          -0.22769307\n        ],\n        \"semantic_type\": \"\",\n        \"description\": \"\"\n      }\n    },\n    {\n      \"column\": \"tGravityAccMag-mean()\",\n      \"properties\": {\n        \"dtype\": \"number\",\n        \"std\": 0.4776531101871754,\n        \"min\": -1.0,\n        \"max\": 1.0,\n        \"num_unique_values\": 7350,\n        \"samples\": [\n          -0.81840681,\n          0.17305652,\n          -0.22769307\n        ],\n        \"semantic_type\": \"\",\n        \"description\": \"\"\n      }\n    },\n    {\n      \"column\": \"tGravityAccMag-sma()\",\n      \"properties\": {\n        \"dtype\": \"number\",\n        \"std\": 0.4776531101871754,\n        \"min\": -1.0,\n        \"max\": 1.0,\n        \"num_unique_values\": 7350,\n        \"samples\": [\n          -0.81840681,\n          0.17305652,\n          -0.22769307\n        ],\n        \"semantic_type\": \"\",\n        \"description\": \"\"\n      }\n    }\n  ]\n}"
            }
          },
          "metadata": {},
          "execution_count": 18
        }
      ]
    },
    {
      "cell_type": "code",
      "source": [
        "for one_list in duplicate_columns.values():\n",
        "    X_train.drop(columns=one_list,inplace=True)\n",
        "    X_test.drop(columns=one_list,inplace=True)"
      ],
      "metadata": {
        "id": "5S7VdzABwMAm"
      },
      "execution_count": null,
      "outputs": []
    },
    {
      "cell_type": "code",
      "source": [
        "print(X_train.shape)\n",
        "print(X_test.shape)"
      ],
      "metadata": {
        "colab": {
          "base_uri": "https://localhost:8080/"
        },
        "id": "TFiWFSd-wQi5",
        "outputId": "14a84b3d-c742-4527-913b-fc1d72858b6d"
      },
      "execution_count": null,
      "outputs": [
        {
          "output_type": "stream",
          "name": "stdout",
          "text": [
            "(7352, 541)\n",
            "(2947, 541)\n"
          ]
        }
      ]
    },
    {
      "cell_type": "markdown",
      "source": [
        "### Creating a Random Forest\n",
        "\n",
        "We will use random forest model to determine which feature is the least importance to our final prediction."
      ],
      "metadata": {
        "id": "pDanMnaOLeUp"
      }
    },
    {
      "cell_type": "code",
      "source": [
        "def rf(xs, y, n_estimators=50, max_samples=3000, max_features=0.5, min_samples_leaf=5, **kwargs):\n",
        "    return RandomForestClassifier(n_jobs=-1, n_estimators=n_estimators,\n",
        "        max_samples=max_samples, max_features=max_features,\n",
        "        min_samples_leaf=min_samples_leaf, oob_score=True).fit(xs, y)"
      ],
      "metadata": {
        "id": "pKjO5c3cpOaO"
      },
      "execution_count": null,
      "outputs": []
    },
    {
      "cell_type": "code",
      "source": [
        "# getting a base model / score\n",
        "m = rf(X_train, y_train);\n",
        "pred_y = m.predict(X_test)\n",
        "\n",
        "macro_f1 = f1_score(y_test, pred_y, average='macro')\n",
        "\n",
        "print(f\"Macro f1 score of random forest: {macro_f1}\")"
      ],
      "metadata": {
        "id": "QwDQIneCYwQR",
        "colab": {
          "base_uri": "https://localhost:8080/"
        },
        "outputId": "9d715f52-d9b4-4d03-a6b3-1ceb660801bc"
      },
      "execution_count": null,
      "outputs": [
        {
          "output_type": "stream",
          "name": "stdout",
          "text": [
            "Macro f1 score of random forest: 0.8997287047554142\n"
          ]
        }
      ]
    },
    {
      "cell_type": "markdown",
      "source": [
        "### Feature Importance"
      ],
      "metadata": {
        "id": "iHI4V3C7xI3c"
      }
    },
    {
      "cell_type": "code",
      "source": [
        "def rf_feat_importance(m, df):\n",
        "    return pd.DataFrame({'cols':df.columns, 'imp':m.feature_importances_}\n",
        "                       ).sort_values('imp', ascending=False)"
      ],
      "metadata": {
        "id": "t1Hs0F1rZ6o9"
      },
      "execution_count": null,
      "outputs": []
    },
    {
      "cell_type": "code",
      "source": [
        "fi = rf_feat_importance(m, X_train)\n",
        "fi[10:20]"
      ],
      "metadata": {
        "colab": {
          "base_uri": "https://localhost:8080/",
          "height": 363
        },
        "id": "tWtqr4SexOQA",
        "outputId": "e35d85fe-8fcd-4999-ab2b-b9624a5dcf67"
      },
      "execution_count": null,
      "outputs": [
        {
          "output_type": "execute_result",
          "data": {
            "text/plain": [
              "                               cols       imp\n",
              "74        tGravityAcc-arCoeff()-Z,2  0.021904\n",
              "487               fBodyAccMag-mad()  0.021339\n",
              "69        tGravityAcc-arCoeff()-Y,1  0.017990\n",
              "102        tBodyAccJerk-entropy()-X  0.017723\n",
              "364  fBodyAccJerk-bandsEnergy()-1,8  0.017109\n",
              "297     fBodyAcc-bandsEnergy()-1,24  0.016866\n",
              "86             tBodyAccJerk-mad()-X  0.016794\n",
              "75        tGravityAcc-arCoeff()-Z,3  0.016235\n",
              "254                fBodyAcc-mad()-X  0.015303\n",
              "73        tGravityAcc-arCoeff()-Z,1  0.015185"
            ],
            "text/html": [
              "\n",
              "  <div id=\"df-c1a5108a-c218-4555-aae0-35e6f2f58a45\" class=\"colab-df-container\">\n",
              "    <div>\n",
              "<style scoped>\n",
              "    .dataframe tbody tr th:only-of-type {\n",
              "        vertical-align: middle;\n",
              "    }\n",
              "\n",
              "    .dataframe tbody tr th {\n",
              "        vertical-align: top;\n",
              "    }\n",
              "\n",
              "    .dataframe thead th {\n",
              "        text-align: right;\n",
              "    }\n",
              "</style>\n",
              "<table border=\"1\" class=\"dataframe\">\n",
              "  <thead>\n",
              "    <tr style=\"text-align: right;\">\n",
              "      <th></th>\n",
              "      <th>cols</th>\n",
              "      <th>imp</th>\n",
              "    </tr>\n",
              "  </thead>\n",
              "  <tbody>\n",
              "    <tr>\n",
              "      <th>74</th>\n",
              "      <td>tGravityAcc-arCoeff()-Z,2</td>\n",
              "      <td>0.021904</td>\n",
              "    </tr>\n",
              "    <tr>\n",
              "      <th>487</th>\n",
              "      <td>fBodyAccMag-mad()</td>\n",
              "      <td>0.021339</td>\n",
              "    </tr>\n",
              "    <tr>\n",
              "      <th>69</th>\n",
              "      <td>tGravityAcc-arCoeff()-Y,1</td>\n",
              "      <td>0.017990</td>\n",
              "    </tr>\n",
              "    <tr>\n",
              "      <th>102</th>\n",
              "      <td>tBodyAccJerk-entropy()-X</td>\n",
              "      <td>0.017723</td>\n",
              "    </tr>\n",
              "    <tr>\n",
              "      <th>364</th>\n",
              "      <td>fBodyAccJerk-bandsEnergy()-1,8</td>\n",
              "      <td>0.017109</td>\n",
              "    </tr>\n",
              "    <tr>\n",
              "      <th>297</th>\n",
              "      <td>fBodyAcc-bandsEnergy()-1,24</td>\n",
              "      <td>0.016866</td>\n",
              "    </tr>\n",
              "    <tr>\n",
              "      <th>86</th>\n",
              "      <td>tBodyAccJerk-mad()-X</td>\n",
              "      <td>0.016794</td>\n",
              "    </tr>\n",
              "    <tr>\n",
              "      <th>75</th>\n",
              "      <td>tGravityAcc-arCoeff()-Z,3</td>\n",
              "      <td>0.016235</td>\n",
              "    </tr>\n",
              "    <tr>\n",
              "      <th>254</th>\n",
              "      <td>fBodyAcc-mad()-X</td>\n",
              "      <td>0.015303</td>\n",
              "    </tr>\n",
              "    <tr>\n",
              "      <th>73</th>\n",
              "      <td>tGravityAcc-arCoeff()-Z,1</td>\n",
              "      <td>0.015185</td>\n",
              "    </tr>\n",
              "  </tbody>\n",
              "</table>\n",
              "</div>\n",
              "    <div class=\"colab-df-buttons\">\n",
              "\n",
              "  <div class=\"colab-df-container\">\n",
              "    <button class=\"colab-df-convert\" onclick=\"convertToInteractive('df-c1a5108a-c218-4555-aae0-35e6f2f58a45')\"\n",
              "            title=\"Convert this dataframe to an interactive table.\"\n",
              "            style=\"display:none;\">\n",
              "\n",
              "  <svg xmlns=\"http://www.w3.org/2000/svg\" height=\"24px\" viewBox=\"0 -960 960 960\">\n",
              "    <path d=\"M120-120v-720h720v720H120Zm60-500h600v-160H180v160Zm220 220h160v-160H400v160Zm0 220h160v-160H400v160ZM180-400h160v-160H180v160Zm440 0h160v-160H620v160ZM180-180h160v-160H180v160Zm440 0h160v-160H620v160Z\"/>\n",
              "  </svg>\n",
              "    </button>\n",
              "\n",
              "  <style>\n",
              "    .colab-df-container {\n",
              "      display:flex;\n",
              "      gap: 12px;\n",
              "    }\n",
              "\n",
              "    .colab-df-convert {\n",
              "      background-color: #E8F0FE;\n",
              "      border: none;\n",
              "      border-radius: 50%;\n",
              "      cursor: pointer;\n",
              "      display: none;\n",
              "      fill: #1967D2;\n",
              "      height: 32px;\n",
              "      padding: 0 0 0 0;\n",
              "      width: 32px;\n",
              "    }\n",
              "\n",
              "    .colab-df-convert:hover {\n",
              "      background-color: #E2EBFA;\n",
              "      box-shadow: 0px 1px 2px rgba(60, 64, 67, 0.3), 0px 1px 3px 1px rgba(60, 64, 67, 0.15);\n",
              "      fill: #174EA6;\n",
              "    }\n",
              "\n",
              "    .colab-df-buttons div {\n",
              "      margin-bottom: 4px;\n",
              "    }\n",
              "\n",
              "    [theme=dark] .colab-df-convert {\n",
              "      background-color: #3B4455;\n",
              "      fill: #D2E3FC;\n",
              "    }\n",
              "\n",
              "    [theme=dark] .colab-df-convert:hover {\n",
              "      background-color: #434B5C;\n",
              "      box-shadow: 0px 1px 3px 1px rgba(0, 0, 0, 0.15);\n",
              "      filter: drop-shadow(0px 1px 2px rgba(0, 0, 0, 0.3));\n",
              "      fill: #FFFFFF;\n",
              "    }\n",
              "  </style>\n",
              "\n",
              "    <script>\n",
              "      const buttonEl =\n",
              "        document.querySelector('#df-c1a5108a-c218-4555-aae0-35e6f2f58a45 button.colab-df-convert');\n",
              "      buttonEl.style.display =\n",
              "        google.colab.kernel.accessAllowed ? 'block' : 'none';\n",
              "\n",
              "      async function convertToInteractive(key) {\n",
              "        const element = document.querySelector('#df-c1a5108a-c218-4555-aae0-35e6f2f58a45');\n",
              "        const dataTable =\n",
              "          await google.colab.kernel.invokeFunction('convertToInteractive',\n",
              "                                                    [key], {});\n",
              "        if (!dataTable) return;\n",
              "\n",
              "        const docLinkHtml = 'Like what you see? Visit the ' +\n",
              "          '<a target=\"_blank\" href=https://colab.research.google.com/notebooks/data_table.ipynb>data table notebook</a>'\n",
              "          + ' to learn more about interactive tables.';\n",
              "        element.innerHTML = '';\n",
              "        dataTable['output_type'] = 'display_data';\n",
              "        await google.colab.output.renderOutput(dataTable, element);\n",
              "        const docLink = document.createElement('div');\n",
              "        docLink.innerHTML = docLinkHtml;\n",
              "        element.appendChild(docLink);\n",
              "      }\n",
              "    </script>\n",
              "  </div>\n",
              "\n",
              "\n",
              "<div id=\"df-281979d7-6ad7-44f0-a9fa-f58401d5ac8d\">\n",
              "  <button class=\"colab-df-quickchart\" onclick=\"quickchart('df-281979d7-6ad7-44f0-a9fa-f58401d5ac8d')\"\n",
              "            title=\"Suggest charts\"\n",
              "            style=\"display:none;\">\n",
              "\n",
              "<svg xmlns=\"http://www.w3.org/2000/svg\" height=\"24px\"viewBox=\"0 0 24 24\"\n",
              "     width=\"24px\">\n",
              "    <g>\n",
              "        <path d=\"M19 3H5c-1.1 0-2 .9-2 2v14c0 1.1.9 2 2 2h14c1.1 0 2-.9 2-2V5c0-1.1-.9-2-2-2zM9 17H7v-7h2v7zm4 0h-2V7h2v10zm4 0h-2v-4h2v4z\"/>\n",
              "    </g>\n",
              "</svg>\n",
              "  </button>\n",
              "\n",
              "<style>\n",
              "  .colab-df-quickchart {\n",
              "      --bg-color: #E8F0FE;\n",
              "      --fill-color: #1967D2;\n",
              "      --hover-bg-color: #E2EBFA;\n",
              "      --hover-fill-color: #174EA6;\n",
              "      --disabled-fill-color: #AAA;\n",
              "      --disabled-bg-color: #DDD;\n",
              "  }\n",
              "\n",
              "  [theme=dark] .colab-df-quickchart {\n",
              "      --bg-color: #3B4455;\n",
              "      --fill-color: #D2E3FC;\n",
              "      --hover-bg-color: #434B5C;\n",
              "      --hover-fill-color: #FFFFFF;\n",
              "      --disabled-bg-color: #3B4455;\n",
              "      --disabled-fill-color: #666;\n",
              "  }\n",
              "\n",
              "  .colab-df-quickchart {\n",
              "    background-color: var(--bg-color);\n",
              "    border: none;\n",
              "    border-radius: 50%;\n",
              "    cursor: pointer;\n",
              "    display: none;\n",
              "    fill: var(--fill-color);\n",
              "    height: 32px;\n",
              "    padding: 0;\n",
              "    width: 32px;\n",
              "  }\n",
              "\n",
              "  .colab-df-quickchart:hover {\n",
              "    background-color: var(--hover-bg-color);\n",
              "    box-shadow: 0 1px 2px rgba(60, 64, 67, 0.3), 0 1px 3px 1px rgba(60, 64, 67, 0.15);\n",
              "    fill: var(--button-hover-fill-color);\n",
              "  }\n",
              "\n",
              "  .colab-df-quickchart-complete:disabled,\n",
              "  .colab-df-quickchart-complete:disabled:hover {\n",
              "    background-color: var(--disabled-bg-color);\n",
              "    fill: var(--disabled-fill-color);\n",
              "    box-shadow: none;\n",
              "  }\n",
              "\n",
              "  .colab-df-spinner {\n",
              "    border: 2px solid var(--fill-color);\n",
              "    border-color: transparent;\n",
              "    border-bottom-color: var(--fill-color);\n",
              "    animation:\n",
              "      spin 1s steps(1) infinite;\n",
              "  }\n",
              "\n",
              "  @keyframes spin {\n",
              "    0% {\n",
              "      border-color: transparent;\n",
              "      border-bottom-color: var(--fill-color);\n",
              "      border-left-color: var(--fill-color);\n",
              "    }\n",
              "    20% {\n",
              "      border-color: transparent;\n",
              "      border-left-color: var(--fill-color);\n",
              "      border-top-color: var(--fill-color);\n",
              "    }\n",
              "    30% {\n",
              "      border-color: transparent;\n",
              "      border-left-color: var(--fill-color);\n",
              "      border-top-color: var(--fill-color);\n",
              "      border-right-color: var(--fill-color);\n",
              "    }\n",
              "    40% {\n",
              "      border-color: transparent;\n",
              "      border-right-color: var(--fill-color);\n",
              "      border-top-color: var(--fill-color);\n",
              "    }\n",
              "    60% {\n",
              "      border-color: transparent;\n",
              "      border-right-color: var(--fill-color);\n",
              "    }\n",
              "    80% {\n",
              "      border-color: transparent;\n",
              "      border-right-color: var(--fill-color);\n",
              "      border-bottom-color: var(--fill-color);\n",
              "    }\n",
              "    90% {\n",
              "      border-color: transparent;\n",
              "      border-bottom-color: var(--fill-color);\n",
              "    }\n",
              "  }\n",
              "</style>\n",
              "\n",
              "  <script>\n",
              "    async function quickchart(key) {\n",
              "      const quickchartButtonEl =\n",
              "        document.querySelector('#' + key + ' button');\n",
              "      quickchartButtonEl.disabled = true;  // To prevent multiple clicks.\n",
              "      quickchartButtonEl.classList.add('colab-df-spinner');\n",
              "      try {\n",
              "        const charts = await google.colab.kernel.invokeFunction(\n",
              "            'suggestCharts', [key], {});\n",
              "      } catch (error) {\n",
              "        console.error('Error during call to suggestCharts:', error);\n",
              "      }\n",
              "      quickchartButtonEl.classList.remove('colab-df-spinner');\n",
              "      quickchartButtonEl.classList.add('colab-df-quickchart-complete');\n",
              "    }\n",
              "    (() => {\n",
              "      let quickchartButtonEl =\n",
              "        document.querySelector('#df-281979d7-6ad7-44f0-a9fa-f58401d5ac8d button');\n",
              "      quickchartButtonEl.style.display =\n",
              "        google.colab.kernel.accessAllowed ? 'block' : 'none';\n",
              "    })();\n",
              "  </script>\n",
              "</div>\n",
              "\n",
              "    </div>\n",
              "  </div>\n"
            ],
            "application/vnd.google.colaboratory.intrinsic+json": {
              "type": "dataframe",
              "summary": "{\n  \"name\": \"fi[10:20]\",\n  \"rows\": 10,\n  \"fields\": [\n    {\n      \"column\": \"cols\",\n      \"properties\": {\n        \"dtype\": \"string\",\n        \"num_unique_values\": 10,\n        \"samples\": [\n          \"fBodyAcc-mad()-X\",\n          \"fBodyAccMag-mad()\",\n          \"fBodyAcc-bandsEnergy()-1,24\"\n        ],\n        \"semantic_type\": \"\",\n        \"description\": \"\"\n      }\n    },\n    {\n      \"column\": \"imp\",\n      \"properties\": {\n        \"dtype\": \"number\",\n        \"std\": 0.002286482660302799,\n        \"min\": 0.015185195199988972,\n        \"max\": 0.021903881298377382,\n        \"num_unique_values\": 10,\n        \"samples\": [\n          0.015303049023685941,\n          0.021339435287496086,\n          0.01686634378064286\n        ],\n        \"semantic_type\": \"\",\n        \"description\": \"\"\n      }\n    }\n  ]\n}"
            }
          },
          "metadata": {},
          "execution_count": 24
        }
      ]
    },
    {
      "cell_type": "code",
      "source": [
        "def plot_fi(fi):\n",
        "    return fi.plot('cols', 'imp', 'barh', figsize=(12,7), legend=False)\n",
        "\n",
        "plot_fi(fi[:30]);"
      ],
      "metadata": {
        "colab": {
          "base_uri": "https://localhost:8080/",
          "height": 599
        },
        "id": "dLRckkRwxRVL",
        "outputId": "68d79fed-4418-45b4-a0d7-f0ca4b8a6bec"
      },
      "execution_count": null,
      "outputs": [
        {
          "output_type": "display_data",
          "data": {
            "text/plain": [
              "<Figure size 1200x700 with 1 Axes>"
            ],
            "image/png": "[encoded data removed]"
          },
          "metadata": {}
        }
      ]
    },
    {
      "cell_type": "code",
      "source": [
        "to_keep = fi[fi.imp>=0.002].cols\n",
        "len(to_keep)"
      ],
      "metadata": {
        "colab": {
          "base_uri": "https://localhost:8080/"
        },
        "id": "O6xsO5i3xY9q",
        "outputId": "0c46ae94-1ee8-4478-e24c-dc5d90c3bdf6"
      },
      "execution_count": null,
      "outputs": [
        {
          "output_type": "execute_result",
          "data": {
            "text/plain": [
              "62"
            ]
          },
          "metadata": {},
          "execution_count": 26
        }
      ]
    },
    {
      "cell_type": "code",
      "source": [
        "X_train_imp = X_train[to_keep]\n",
        "X_test_imp = X_test[to_keep]"
      ],
      "metadata": {
        "id": "wRLDUwu2xqQ2"
      },
      "execution_count": null,
      "outputs": []
    },
    {
      "cell_type": "code",
      "source": [
        "m = rf(X_train_imp, y_train)\n",
        "\n",
        "pred_y = m.predict(X_test_imp)\n",
        "\n",
        "macro_f1 = f1_score(y_test, pred_y, average='macro')\n",
        "\n",
        "print(f\"Macro f1 score of random forest using most important features: {macro_f1}\")"
      ],
      "metadata": {
        "id": "_Nh-_Dpax75v",
        "colab": {
          "base_uri": "https://localhost:8080/"
        },
        "outputId": "35406f96-af3b-4fcf-a5f7-1d34cb0941b9"
      },
      "execution_count": null,
      "outputs": [
        {
          "output_type": "stream",
          "name": "stdout",
          "text": [
            "Macro f1 score of random forest using most important features: 0.8972842084024105\n"
          ]
        }
      ]
    },
    {
      "cell_type": "markdown",
      "source": [
        "### Removing Redundant Features"
      ],
      "metadata": {
        "id": "acR944lJdL8J"
      }
    },
    {
      "cell_type": "code",
      "source": [
        "from scipy.cluster import hierarchy as hc"
      ],
      "metadata": {
        "id": "CHW6zpSG512m"
      },
      "execution_count": null,
      "outputs": []
    },
    {
      "cell_type": "code",
      "source": [
        "def cluster_columns(df, figsize=(10, 12), font_size=12):\n",
        "    corr = np.round(scipy.stats.spearmanr(df).correlation, 4)\n",
        "    corr_condensed = hc.distance.squareform(1-corr)\n",
        "    z = hc.linkage(corr_condensed, method='average')\n",
        "    fig = plt.figure(figsize=figsize)\n",
        "    hc.dendrogram(z, labels=df.columns, orientation='left', leaf_font_size=font_size)\n",
        "    plt.show()"
      ],
      "metadata": {
        "id": "16CeUXb35lQz"
      },
      "execution_count": null,
      "outputs": []
    },
    {
      "cell_type": "code",
      "source": [
        "def cluster_columns_lowest(df, correlation_level):\n",
        "    corr = np.round(scipy.stats.spearmanr(df).correlation, 4)\n",
        "    corr_condensed = hc.distance.squareform(1-corr)\n",
        "    z = hc.linkage(corr_condensed, method='average')\n",
        "    correlated_pairs = []\n",
        "    for i in range(len(z)):\n",
        "      if z[i, 2] <= correlation_level:\n",
        "        left, right = z[i, 0:2]\n",
        "        if left < len(df.columns) and right < len(df.columns):\n",
        "          correlated_pairs.append((df.columns[int(left)], df.columns[int(right)]))\n",
        "\n",
        "    return correlated_pairs"
      ],
      "metadata": {
        "id": "PUECOUP0fVhz"
      },
      "execution_count": null,
      "outputs": []
    },
    {
      "cell_type": "code",
      "source": [
        "cluster_columns(X_train_imp)"
      ],
      "metadata": {
        "colab": {
          "base_uri": "https://localhost:8080/",
          "height": 984
        },
        "id": "29LcAZO0568s",
        "outputId": "8dc1c1cc-df10-4d7a-baa4-37047781290c"
      },
      "execution_count": null,
      "outputs": [
        {
          "output_type": "display_data",
          "data": {
            "text/plain": [
              "<Figure size 1000x1200 with 1 Axes>"
            ],
            "image/png": "[encoded data removed]"
          },
          "metadata": {}
        }
      ]
    },
    {
      "cell_type": "code",
      "source": [
        "cluster = cluster_columns_lowest(X_train_imp, 0.1)"
      ],
      "metadata": {
        "id": "_f9tsYpMx1TZ"
      },
      "execution_count": null,
      "outputs": []
    },
    {
      "cell_type": "code",
      "source": [
        "def get_oob(df, y):\n",
        "    m = RandomForestClassifier(n_estimators=40, min_samples_leaf=15,\n",
        "        max_samples=550, max_features=0.5, n_jobs=-1, oob_score=True)\n",
        "    m.fit(df, y)\n",
        "    return m.oob_score_"
      ],
      "metadata": {
        "id": "l2vd7JcmkSPX"
      },
      "execution_count": null,
      "outputs": []
    },
    {
      "cell_type": "code",
      "source": [
        "get_oob(X_train_imp, y_train)"
      ],
      "metadata": {
        "colab": {
          "base_uri": "https://localhost:8080/"
        },
        "id": "JOqiXFNsPONF",
        "outputId": "705570c4-af31-46b2-d588-8dd189606b28"
      },
      "execution_count": null,
      "outputs": [
        {
          "output_type": "execute_result",
          "data": {
            "text/plain": [
              "0.9182535364526659"
            ]
          },
          "metadata": {},
          "execution_count": 35
        }
      ]
    },
    {
      "cell_type": "code",
      "source": [
        "columns = []\n",
        "for c in cluster:\n",
        "  columns.extend(list(c))\n",
        "oob_col_scores = {c:get_oob(X_train_imp.drop(c, axis=1), y_train) for c in columns}"
      ],
      "metadata": {
        "id": "sG1fddPiPRrX"
      },
      "execution_count": null,
      "outputs": []
    },
    {
      "cell_type": "code",
      "source": [
        "to_drop = [e1 if oob_col_scores[e1] >= oob_col_scores[e2] else e2\n",
        "           for e1, e2 in cluster]\n",
        "get_oob(X_train_imp.drop(to_drop, axis=1), y_train)"
      ],
      "metadata": {
        "colab": {
          "base_uri": "https://localhost:8080/"
        },
        "id": "fsRCDProPdmu",
        "outputId": "32e91c8c-1159-4a95-9a52-19d245a33625"
      },
      "execution_count": null,
      "outputs": [
        {
          "output_type": "execute_result",
          "data": {
            "text/plain": [
              "0.920429815016322"
            ]
          },
          "metadata": {},
          "execution_count": 37
        }
      ]
    },
    {
      "cell_type": "code",
      "source": [
        "X_train_final = X_train_imp.drop(to_drop, axis=1)\n",
        "X_test_final = X_test_imp.drop(to_drop, axis=1)"
      ],
      "metadata": {
        "id": "9qr4KY9kUQBZ"
      },
      "execution_count": null,
      "outputs": []
    },
    {
      "cell_type": "code",
      "source": [
        "m = rf(X_train_final, y_train, n_estimators=40, min_samples_leaf=15, max_features=550)\n",
        "\n",
        "pred_y = m.predict(X_test_final)\n",
        "\n",
        "macro_f1 = f1_score(y_test, pred_y, average='macro')\n",
        "\n",
        "print(f\"Macro f1 score of random forest using most important features: {macro_f1}\")"
      ],
      "metadata": {
        "colab": {
          "base_uri": "https://localhost:8080/"
        },
        "id": "YOfNufwDU1oQ",
        "outputId": "242a83d6-9ac8-469e-c135-f3499a077f44"
      },
      "execution_count": null,
      "outputs": [
        {
          "output_type": "stream",
          "name": "stdout",
          "text": [
            "Macro f1 score of random forest using most important features: 0.8885564800843664\n"
          ]
        }
      ]
    },
    {
      "cell_type": "markdown",
      "source": [
        "## visualizing using PCA\n",
        "\n",
        "visualizing the selected feature using principil component analysis"
      ],
      "metadata": {
        "id": "fU4K5PnR3rJX"
      }
    },
    {
      "cell_type": "code",
      "source": [
        "pca = PCA(n_components=2)\n",
        "\n",
        "principalComponents = pca.fit_transform(X_train_final)\n",
        "\n",
        "principalDf = pd.DataFrame(data = principalComponents, columns = ['principal component 1', 'principal component 2'])"
      ],
      "metadata": {
        "id": "saKnUvrMYeQg"
      },
      "execution_count": null,
      "outputs": []
    },
    {
      "cell_type": "code",
      "source": [
        "principalDf.info()"
      ],
      "metadata": {
        "colab": {
          "base_uri": "https://localhost:8080/"
        },
        "id": "vthgWh-TacA-",
        "outputId": "a19a334e-501d-49b4-b771-a34a72553699"
      },
      "execution_count": null,
      "outputs": [
        {
          "output_type": "stream",
          "name": "stdout",
          "text": [
            "<class 'pandas.core.frame.DataFrame'>\n",
            "RangeIndex: 7352 entries, 0 to 7351\n",
            "Data columns (total 2 columns):\n",
            " #   Column                 Non-Null Count  Dtype  \n",
            "---  ------                 --------------  -----  \n",
            " 0   principal component 1  7352 non-null   float64\n",
            " 1   principal component 2  7352 non-null   float64\n",
            "dtypes: float64(2)\n",
            "memory usage: 115.0 KB\n"
          ]
        }
      ]
    },
    {
      "cell_type": "code",
      "source": [
        "finalDf = pd.concat([principalDf, df[dep_variable]], axis = 1, ignore_index=False)"
      ],
      "metadata": {
        "id": "_4N1TE01ZpPM"
      },
      "execution_count": null,
      "outputs": []
    },
    {
      "cell_type": "code",
      "source": [
        "finalDf[\"Activity\"].unique()"
      ],
      "metadata": {
        "colab": {
          "base_uri": "https://localhost:8080/"
        },
        "id": "HT4O3iQccCaG",
        "outputId": "41fb662f-6179-481a-8128-9ca12f7fe94d"
      },
      "execution_count": null,
      "outputs": [
        {
          "output_type": "execute_result",
          "data": {
            "text/plain": [
              "array(['STANDING', 'SITTING', 'LAYING', 'WALKING', 'WALKING_DOWNSTAIRS',\n",
              "       'WALKING_UPSTAIRS'], dtype=object)"
            ]
          },
          "metadata": {},
          "execution_count": 46
        }
      ]
    },
    {
      "cell_type": "code",
      "source": [
        "finalDf[dep_variable].value_counts(dropna=False)"
      ],
      "metadata": {
        "colab": {
          "base_uri": "https://localhost:8080/",
          "height": 304
        },
        "id": "qs0KvwKtbtkV",
        "outputId": "8382d745-c678-4542-b84f-6626b41c75a8"
      },
      "execution_count": null,
      "outputs": [
        {
          "output_type": "execute_result",
          "data": {
            "text/plain": [
              "Activity\n",
              "LAYING                1407\n",
              "STANDING              1374\n",
              "SITTING               1286\n",
              "WALKING               1226\n",
              "WALKING_UPSTAIRS      1073\n",
              "WALKING_DOWNSTAIRS     986\n",
              "Name: count, dtype: int64"
            ],
            "text/html": [
              "<div>\n",
              "<style scoped>\n",
              "    .dataframe tbody tr th:only-of-type {\n",
              "        vertical-align: middle;\n",
              "    }\n",
              "\n",
              "    .dataframe tbody tr th {\n",
              "        vertical-align: top;\n",
              "    }\n",
              "\n",
              "    .dataframe thead th {\n",
              "        text-align: right;\n",
              "    }\n",
              "</style>\n",
              "<table border=\"1\" class=\"dataframe\">\n",
              "  <thead>\n",
              "    <tr style=\"text-align: right;\">\n",
              "      <th></th>\n",
              "      <th>count</th>\n",
              "    </tr>\n",
              "    <tr>\n",
              "      <th>Activity</th>\n",
              "      <th></th>\n",
              "    </tr>\n",
              "  </thead>\n",
              "  <tbody>\n",
              "    <tr>\n",
              "      <th>LAYING</th>\n",
              "      <td>1407</td>\n",
              "    </tr>\n",
              "    <tr>\n",
              "      <th>STANDING</th>\n",
              "      <td>1374</td>\n",
              "    </tr>\n",
              "    <tr>\n",
              "      <th>SITTING</th>\n",
              "      <td>1286</td>\n",
              "    </tr>\n",
              "    <tr>\n",
              "      <th>WALKING</th>\n",
              "      <td>1226</td>\n",
              "    </tr>\n",
              "    <tr>\n",
              "      <th>WALKING_UPSTAIRS</th>\n",
              "      <td>1073</td>\n",
              "    </tr>\n",
              "    <tr>\n",
              "      <th>WALKING_DOWNSTAIRS</th>\n",
              "      <td>986</td>\n",
              "    </tr>\n",
              "  </tbody>\n",
              "</table>\n",
              "</div><br><label><b>dtype:</b> int64</label>"
            ]
          },
          "metadata": {},
          "execution_count": 47
        }
      ]
    },
    {
      "cell_type": "code",
      "source": [
        "finalDf.head()"
      ],
      "metadata": {
        "colab": {
          "base_uri": "https://localhost:8080/",
          "height": 206
        },
        "id": "0On76z0hbZIl",
        "outputId": "81393c99-bc4f-4f28-cb6a-52f3264abf6a"
      },
      "execution_count": null,
      "outputs": [
        {
          "output_type": "execute_result",
          "data": {
            "text/plain": [
              "   principal component 1  principal component 2  Activity\n",
              "0             -16.354411              -2.199106  STANDING\n",
              "1             -16.356838              -2.236781  STANDING\n",
              "2             -16.357032              -2.224936  STANDING\n",
              "3             -16.358037              -2.254990  STANDING\n",
              "4             -16.356622              -2.308765  STANDING"
            ],
            "text/html": [
              "\n",
              "  <div id=\"df-cf8240e2-7449-4e5e-a27a-435fe81180b6\" class=\"colab-df-container\">\n",
              "    <div>\n",
              "<style scoped>\n",
              "    .dataframe tbody tr th:only-of-type {\n",
              "        vertical-align: middle;\n",
              "    }\n",
              "\n",
              "    .dataframe tbody tr th {\n",
              "        vertical-align: top;\n",
              "    }\n",
              "\n",
              "    .dataframe thead th {\n",
              "        text-align: right;\n",
              "    }\n",
              "</style>\n",
              "<table border=\"1\" class=\"dataframe\">\n",
              "  <thead>\n",
              "    <tr style=\"text-align: right;\">\n",
              "      <th></th>\n",
              "      <th>principal component 1</th>\n",
              "      <th>principal component 2</th>\n",
              "      <th>Activity</th>\n",
              "    </tr>\n",
              "  </thead>\n",
              "  <tbody>\n",
              "    <tr>\n",
              "      <th>0</th>\n",
              "      <td>-16.354411</td>\n",
              "      <td>-2.199106</td>\n",
              "      <td>STANDING</td>\n",
              "    </tr>\n",
              "    <tr>\n",
              "      <th>1</th>\n",
              "      <td>-16.356838</td>\n",
              "      <td>-2.236781</td>\n",
              "      <td>STANDING</td>\n",
              "    </tr>\n",
              "    <tr>\n",
              "      <th>2</th>\n",
              "      <td>-16.357032</td>\n",
              "      <td>-2.224936</td>\n",
              "      <td>STANDING</td>\n",
              "    </tr>\n",
              "    <tr>\n",
              "      <th>3</th>\n",
              "      <td>-16.358037</td>\n",
              "      <td>-2.254990</td>\n",
              "      <td>STANDING</td>\n",
              "    </tr>\n",
              "    <tr>\n",
              "      <th>4</th>\n",
              "      <td>-16.356622</td>\n",
              "      <td>-2.308765</td>\n",
              "      <td>STANDING</td>\n",
              "    </tr>\n",
              "  </tbody>\n",
              "</table>\n",
              "</div>\n",
              "    <div class=\"colab-df-buttons\">\n",
              "\n",
              "  <div class=\"colab-df-container\">\n",
              "    <button class=\"colab-df-convert\" onclick=\"convertToInteractive('df-cf8240e2-7449-4e5e-a27a-435fe81180b6')\"\n",
              "            title=\"Convert this dataframe to an interactive table.\"\n",
              "            style=\"display:none;\">\n",
              "\n",
              "  <svg xmlns=\"http://www.w3.org/2000/svg\" height=\"24px\" viewBox=\"0 -960 960 960\">\n",
              "    <path d=\"M120-120v-720h720v720H120Zm60-500h600v-160H180v160Zm220 220h160v-160H400v160Zm0 220h160v-160H400v160ZM180-400h160v-160H180v160Zm440 0h160v-160H620v160ZM180-180h160v-160H180v160Zm440 0h160v-160H620v160Z\"/>\n",
              "  </svg>\n",
              "    </button>\n",
              "\n",
              "  <style>\n",
              "    .colab-df-container {\n",
              "      display:flex;\n",
              "      gap: 12px;\n",
              "    }\n",
              "\n",
              "    .colab-df-convert {\n",
              "      background-color: #E8F0FE;\n",
              "      border: none;\n",
              "      border-radius: 50%;\n",
              "      cursor: pointer;\n",
              "      display: none;\n",
              "      fill: #1967D2;\n",
              "      height: 32px;\n",
              "      padding: 0 0 0 0;\n",
              "      width: 32px;\n",
              "    }\n",
              "\n",
              "    .colab-df-convert:hover {\n",
              "      background-color: #E2EBFA;\n",
              "      box-shadow: 0px 1px 2px rgba(60, 64, 67, 0.3), 0px 1px 3px 1px rgba(60, 64, 67, 0.15);\n",
              "      fill: #174EA6;\n",
              "    }\n",
              "\n",
              "    .colab-df-buttons div {\n",
              "      margin-bottom: 4px;\n",
              "    }\n",
              "\n",
              "    [theme=dark] .colab-df-convert {\n",
              "      background-color: #3B4455;\n",
              "      fill: #D2E3FC;\n",
              "    }\n",
              "\n",
              "    [theme=dark] .colab-df-convert:hover {\n",
              "      background-color: #434B5C;\n",
              "      box-shadow: 0px 1px 3px 1px rgba(0, 0, 0, 0.15);\n",
              "      filter: drop-shadow(0px 1px 2px rgba(0, 0, 0, 0.3));\n",
              "      fill: #FFFFFF;\n",
              "    }\n",
              "  </style>\n",
              "\n",
              "    <script>\n",
              "      const buttonEl =\n",
              "        document.querySelector('#df-cf8240e2-7449-4e5e-a27a-435fe81180b6 button.colab-df-convert');\n",
              "      buttonEl.style.display =\n",
              "        google.colab.kernel.accessAllowed ? 'block' : 'none';\n",
              "\n",
              "      async function convertToInteractive(key) {\n",
              "        const element = document.querySelector('#df-cf8240e2-7449-4e5e-a27a-435fe81180b6');\n",
              "        const dataTable =\n",
              "          await google.colab.kernel.invokeFunction('convertToInteractive',\n",
              "                                                    [key], {});\n",
              "        if (!dataTable) return;\n",
              "\n",
              "        const docLinkHtml = 'Like what you see? Visit the ' +\n",
              "          '<a target=\"_blank\" href=https://colab.research.google.com/notebooks/data_table.ipynb>data table notebook</a>'\n",
              "          + ' to learn more about interactive tables.';\n",
              "        element.innerHTML = '';\n",
              "        dataTable['output_type'] = 'display_data';\n",
              "        await google.colab.output.renderOutput(dataTable, element);\n",
              "        const docLink = document.createElement('div');\n",
              "        docLink.innerHTML = docLinkHtml;\n",
              "        element.appendChild(docLink);\n",
              "      }\n",
              "    </script>\n",
              "  </div>\n",
              "\n",
              "\n",
              "<div id=\"df-a29048d2-3738-4f18-b17a-3cd735724588\">\n",
              "  <button class=\"colab-df-quickchart\" onclick=\"quickchart('df-a29048d2-3738-4f18-b17a-3cd735724588')\"\n",
              "            title=\"Suggest charts\"\n",
              "            style=\"display:none;\">\n",
              "\n",
              "<svg xmlns=\"http://www.w3.org/2000/svg\" height=\"24px\"viewBox=\"0 0 24 24\"\n",
              "     width=\"24px\">\n",
              "    <g>\n",
              "        <path d=\"M19 3H5c-1.1 0-2 .9-2 2v14c0 1.1.9 2 2 2h14c1.1 0 2-.9 2-2V5c0-1.1-.9-2-2-2zM9 17H7v-7h2v7zm4 0h-2V7h2v10zm4 0h-2v-4h2v4z\"/>\n",
              "    </g>\n",
              "</svg>\n",
              "  </button>\n",
              "\n",
              "<style>\n",
              "  .colab-df-quickchart {\n",
              "      --bg-color: #E8F0FE;\n",
              "      --fill-color: #1967D2;\n",
              "      --hover-bg-color: #E2EBFA;\n",
              "      --hover-fill-color: #174EA6;\n",
              "      --disabled-fill-color: #AAA;\n",
              "      --disabled-bg-color: #DDD;\n",
              "  }\n",
              "\n",
              "  [theme=dark] .colab-df-quickchart {\n",
              "      --bg-color: #3B4455;\n",
              "      --fill-color: #D2E3FC;\n",
              "      --hover-bg-color: #434B5C;\n",
              "      --hover-fill-color: #FFFFFF;\n",
              "      --disabled-bg-color: #3B4455;\n",
              "      --disabled-fill-color: #666;\n",
              "  }\n",
              "\n",
              "  .colab-df-quickchart {\n",
              "    background-color: var(--bg-color);\n",
              "    border: none;\n",
              "    border-radius: 50%;\n",
              "    cursor: pointer;\n",
              "    display: none;\n",
              "    fill: var(--fill-color);\n",
              "    height: 32px;\n",
              "    padding: 0;\n",
              "    width: 32px;\n",
              "  }\n",
              "\n",
              "  .colab-df-quickchart:hover {\n",
              "    background-color: var(--hover-bg-color);\n",
              "    box-shadow: 0 1px 2px rgba(60, 64, 67, 0.3), 0 1px 3px 1px rgba(60, 64, 67, 0.15);\n",
              "    fill: var(--button-hover-fill-color);\n",
              "  }\n",
              "\n",
              "  .colab-df-quickchart-complete:disabled,\n",
              "  .colab-df-quickchart-complete:disabled:hover {\n",
              "    background-color: var(--disabled-bg-color);\n",
              "    fill: var(--disabled-fill-color);\n",
              "    box-shadow: none;\n",
              "  }\n",
              "\n",
              "  .colab-df-spinner {\n",
              "    border: 2px solid var(--fill-color);\n",
              "    border-color: transparent;\n",
              "    border-bottom-color: var(--fill-color);\n",
              "    animation:\n",
              "      spin 1s steps(1) infinite;\n",
              "  }\n",
              "\n",
              "  @keyframes spin {\n",
              "    0% {\n",
              "      border-color: transparent;\n",
              "      border-bottom-color: var(--fill-color);\n",
              "      border-left-color: var(--fill-color);\n",
              "    }\n",
              "    20% {\n",
              "      border-color: transparent;\n",
              "      border-left-color: var(--fill-color);\n",
              "      border-top-color: var(--fill-color);\n",
              "    }\n",
              "    30% {\n",
              "      border-color: transparent;\n",
              "      border-left-color: var(--fill-color);\n",
              "      border-top-color: var(--fill-color);\n",
              "      border-right-color: var(--fill-color);\n",
              "    }\n",
              "    40% {\n",
              "      border-color: transparent;\n",
              "      border-right-color: var(--fill-color);\n",
              "      border-top-color: var(--fill-color);\n",
              "    }\n",
              "    60% {\n",
              "      border-color: transparent;\n",
              "      border-right-color: var(--fill-color);\n",
              "    }\n",
              "    80% {\n",
              "      border-color: transparent;\n",
              "      border-right-color: var(--fill-color);\n",
              "      border-bottom-color: var(--fill-color);\n",
              "    }\n",
              "    90% {\n",
              "      border-color: transparent;\n",
              "      border-bottom-color: var(--fill-color);\n",
              "    }\n",
              "  }\n",
              "</style>\n",
              "\n",
              "  <script>\n",
              "    async function quickchart(key) {\n",
              "      const quickchartButtonEl =\n",
              "        document.querySelector('#' + key + ' button');\n",
              "      quickchartButtonEl.disabled = true;  // To prevent multiple clicks.\n",
              "      quickchartButtonEl.classList.add('colab-df-spinner');\n",
              "      try {\n",
              "        const charts = await google.colab.kernel.invokeFunction(\n",
              "            'suggestCharts', [key], {});\n",
              "      } catch (error) {\n",
              "        console.error('Error during call to suggestCharts:', error);\n",
              "      }\n",
              "      quickchartButtonEl.classList.remove('colab-df-spinner');\n",
              "      quickchartButtonEl.classList.add('colab-df-quickchart-complete');\n",
              "    }\n",
              "    (() => {\n",
              "      let quickchartButtonEl =\n",
              "        document.querySelector('#df-a29048d2-3738-4f18-b17a-3cd735724588 button');\n",
              "      quickchartButtonEl.style.display =\n",
              "        google.colab.kernel.accessAllowed ? 'block' : 'none';\n",
              "    })();\n",
              "  </script>\n",
              "</div>\n",
              "\n",
              "    </div>\n",
              "  </div>\n"
            ],
            "application/vnd.google.colaboratory.intrinsic+json": {
              "type": "dataframe",
              "variable_name": "finalDf",
              "summary": "{\n  \"name\": \"finalDf\",\n  \"rows\": 7352,\n  \"fields\": [\n    {\n      \"column\": \"principal component 1\",\n      \"properties\": {\n        \"dtype\": \"number\",\n        \"std\": 8.97808536659834,\n        \"min\": -16.508228198695125,\n        \"max\": 12.652770974332135,\n        \"num_unique_values\": 7352,\n        \"samples\": [\n          4.50168621828783,\n          -10.504117339998484,\n          9.529143848548038\n        ],\n        \"semantic_type\": \"\",\n        \"description\": \"\"\n      }\n    },\n    {\n      \"column\": \"principal component 2\",\n      \"properties\": {\n        \"dtype\": \"number\",\n        \"std\": 2.3900682770654145,\n        \"min\": -3.451556448554334,\n        \"max\": 6.530061119709359,\n        \"num_unique_values\": 7352,\n        \"samples\": [\n          3.532303790345394,\n          3.562052012400083,\n          2.3391292566772033\n        ],\n        \"semantic_type\": \"\",\n        \"description\": \"\"\n      }\n    },\n    {\n      \"column\": \"Activity\",\n      \"properties\": {\n        \"dtype\": \"category\",\n        \"num_unique_values\": 6,\n        \"samples\": [\n          \"STANDING\",\n          \"SITTING\",\n          \"WALKING_UPSTAIRS\"\n        ],\n        \"semantic_type\": \"\",\n        \"description\": \"\"\n      }\n    }\n  ]\n}"
            }
          },
          "metadata": {},
          "execution_count": 48
        }
      ]
    },
    {
      "cell_type": "code",
      "source": [
        "fig = plt.figure(figsize = (8,8))\n",
        "ax = fig.add_subplot(1,1,1)\n",
        "ax.set_xlabel('Principal Component 1', fontsize = 15)\n",
        "ax.set_ylabel('Principal Component 2', fontsize = 15)\n",
        "ax.set_title('2 component PCA', fontsize = 20)\n",
        "\n",
        "targets = ['STANDING', 'SITTING', 'LAYING', 'WALKING', 'WALKING_DOWNSTAIRS', 'WALKING_UPSTAIRS']\n",
        "colors = ['red', 'green', 'blue', 'yellow', 'purple', 'orange']\n",
        "for target, color in zip(targets,colors):\n",
        "    indicesToKeep = finalDf[dep_variable] == target\n",
        "    ax.scatter(finalDf.loc[indicesToKeep, 'principal component 1']\n",
        "               , finalDf.loc[indicesToKeep, 'principal component 2']\n",
        "               , c = color\n",
        "               , s = 50)\n",
        "ax.legend([t for t in targets])\n",
        "ax.grid()"
      ],
      "metadata": {
        "colab": {
          "base_uri": "https://localhost:8080/",
          "height": 732
        },
        "id": "lmm3-ocQYk8a",
        "outputId": "6dd6e099-d2b7-42f1-f4b6-b202e7068373"
      },
      "execution_count": null,
      "outputs": [
        {
          "output_type": "display_data",
          "data": {
            "text/plain": [
              "<Figure size 800x800 with 1 Axes>"
            ],
            "image/png": "[encoded data removed]"
          },
          "metadata": {}
        }
      ]
    },
    {
      "cell_type": "markdown",
      "source": [
        "## Using TabularPandas\n",
        "\n",
        "Using TabularPandas gives us some handy features that makes training a neural net easier without adding any additional hassle when using it with outher models."
      ],
      "metadata": {
        "id": "EocqRqL3Hkm6"
      }
    },
    {
      "cell_type": "code",
      "source": [
        "procs = [Categorify, FillMissing, Normalize]"
      ],
      "metadata": {
        "id": "P-FX1JKmHj8y"
      },
      "execution_count": null,
      "outputs": []
    },
    {
      "cell_type": "code",
      "source": [
        "from sklearn.model_selection import train_test_split\n",
        "\n",
        "train, valid = train_test_split(X_train_final.index, test_size=0.2, random_state=42)\n",
        "\n",
        "splits = (list(train), list(valid))"
      ],
      "metadata": {
        "id": "Ij1IVN_nIKkQ"
      },
      "execution_count": null,
      "outputs": []
    },
    {
      "cell_type": "code",
      "source": [
        "type(splits), len(splits[0]), len(splits[1])"
      ],
      "metadata": {
        "colab": {
          "base_uri": "https://localhost:8080/"
        },
        "collapsed": true,
        "id": "2s00eW8xRx4-",
        "outputId": "4242ebdf-06f8-4df5-c156-66464db5e29f"
      },
      "execution_count": null,
      "outputs": [
        {
          "output_type": "execute_result",
          "data": {
            "text/plain": [
              "(tuple, 5881, 1471)"
            ]
          },
          "metadata": {},
          "execution_count": 52
        }
      ]
    },
    {
      "cell_type": "code",
      "source": [
        "cont,cat = cont_cat_split(X_train_final, 1, dep_var=None)"
      ],
      "metadata": {
        "id": "H4k8-8CRJLuX"
      },
      "execution_count": null,
      "outputs": []
    },
    {
      "cell_type": "code",
      "source": [
        "df = pd.concat([X_train_final, df[dep_variable]], axis=1)\n",
        "df_test = pd.concat([X_test_final, df_test[dep_variable]], axis=1)"
      ],
      "metadata": {
        "id": "C6-ke6y__Tdr"
      },
      "execution_count": null,
      "outputs": []
    },
    {
      "cell_type": "code",
      "source": [
        "to = TabularPandas(df, procs, cat, cont, y_names=dep_variable, splits=splits)\n",
        "to_test = TabularPandas(df_test, procs, cat, cont, y_names=dep_variable, splits=None)"
      ],
      "metadata": {
        "id": "FEDa5qDZJTcg"
      },
      "execution_count": null,
      "outputs": []
    },
    {
      "cell_type": "code",
      "source": [
        "len(to.train),len(to.valid)"
      ],
      "metadata": {
        "id": "zrlPPa98LV9O",
        "colab": {
          "base_uri": "https://localhost:8080/"
        },
        "outputId": "c35372c5-7258-44f8-8171-7675f405120d"
      },
      "execution_count": null,
      "outputs": [
        {
          "output_type": "execute_result",
          "data": {
            "text/plain": [
              "(5881, 1471)"
            ]
          },
          "metadata": {},
          "execution_count": 57
        }
      ]
    },
    {
      "cell_type": "code",
      "source": [
        "to.show(3)"
      ],
      "metadata": {
        "id": "_w1VhRpKLXE8",
        "colab": {
          "base_uri": "https://localhost:8080/",
          "height": 198
        },
        "outputId": "cbaeea08-38ac-4e1f-e421-58527600903f"
      },
      "execution_count": null,
      "outputs": [
        {
          "output_type": "display_data",
          "data": {
            "text/plain": [
              "<IPython.core.display.HTML object>"
            ],
            "text/html": [
              "<table border=\"1\" class=\"dataframe\">\n",
              "  <thead>\n",
              "    <tr style=\"text-align: right;\">\n",
              "      <th></th>\n",
              "      <th>tGravityAcc-min()-X</th>\n",
              "      <th>tGravityAcc-mean()-Y</th>\n",
              "      <th>tGravityAcc-energy()-X</th>\n",
              "      <th>angle(X,gravityMean)</th>\n",
              "      <th>tBodyAccMag-std()</th>\n",
              "      <th>angle(Y,gravityMean)</th>\n",
              "      <th>tGravityAcc-arCoeff()-Y,2</th>\n",
              "      <th>tGravityAcc-arCoeff()-Z,2</th>\n",
              "      <th>fBodyAccMag-mad()</th>\n",
              "      <th>tBodyAccJerk-entropy()-X</th>\n",
              "      <th>fBodyAccJerk-bandsEnergy()-1,8</th>\n",
              "      <th>tBodyAccJerk-mad()-X</th>\n",
              "      <th>tGravityAcc-arCoeff()-Z,3</th>\n",
              "      <th>tGravityAcc-min()-Y</th>\n",
              "      <th>tGravityAcc-energy()-Y</th>\n",
              "      <th>tBodyAcc-correlation()-X,Y</th>\n",
              "      <th>fBodyAccMag-std()</th>\n",
              "      <th>fBodyAccJerk-bandsEnergy()-1,24</th>\n",
              "      <th>fBodyAcc-entropy()-X</th>\n",
              "      <th>tBodyAccJerkMag-entropy()</th>\n",
              "      <th>fBodyAccJerk-bandsEnergy()-1,16</th>\n",
              "      <th>fBodyAccJerk-energy()-X</th>\n",
              "      <th>fBodyAccJerk-mean()-X</th>\n",
              "      <th>fBodyGyro-maxInds-X</th>\n",
              "      <th>tBodyAccJerk-iqr()-X</th>\n",
              "      <th>tBodyGyro-correlation()-Y,Z</th>\n",
              "      <th>tBodyAccMag-arCoeff()1</th>\n",
              "      <th>tGravityAcc-arCoeff()-X,1</th>\n",
              "      <th>tGravityAcc-max()-X</th>\n",
              "      <th>fBodyAccMag-mean()</th>\n",
              "      <th>fBodyAcc-bandsEnergy()-1,16</th>\n",
              "      <th>tBodyAccJerkMag-mad()</th>\n",
              "      <th>tBodyAccMag-mad()</th>\n",
              "      <th>tGravityAcc-arCoeff()-Y,3</th>\n",
              "      <th>tBodyAccJerk-mad()-Y</th>\n",
              "      <th>tBodyGyroJerk-iqr()-Z</th>\n",
              "      <th>fBodyGyro-sma()</th>\n",
              "      <th>tBodyAccJerk-sma()</th>\n",
              "      <th>tBodyAccJerkMag-iqr()</th>\n",
              "      <th>fBodyAcc-mean()-X</th>\n",
              "      <th>fBodyAccJerk-entropy()-X</th>\n",
              "      <th>tBodyAccJerk-std()-X</th>\n",
              "      <th>fBodyAcc-sma()</th>\n",
              "      <th>tBodyGyro-max()-X</th>\n",
              "      <th>fBodyGyro-maxInds-Z</th>\n",
              "      <th>tBodyAcc-max()-X</th>\n",
              "      <th>tGravityAcc-mean()-Z</th>\n",
              "      <th>tBodyGyro-min()-X</th>\n",
              "      <th>fBodyGyro-meanFreq()-X</th>\n",
              "      <th>subject</th>\n",
              "      <th>fBodyGyro-bandsEnergy()-1,8.1</th>\n",
              "      <th>Activity</th>\n",
              "    </tr>\n",
              "  </thead>\n",
              "  <tbody>\n",
              "    <tr>\n",
              "      <th>57</th>\n",
              "      <td>-0.163251</td>\n",
              "      <td>0.771351</td>\n",
              "      <td>-0.934984</td>\n",
              "      <td>0.398881</td>\n",
              "      <td>-0.996333</td>\n",
              "      <td>-0.546717</td>\n",
              "      <td>-0.261909</td>\n",
              "      <td>0.163357</td>\n",
              "      <td>-0.995165</td>\n",
              "      <td>-0.769828</td>\n",
              "      <td>-0.999991</td>\n",
              "      <td>-0.992652</td>\n",
              "      <td>-0.187326</td>\n",
              "      <td>0.786554</td>\n",
              "      <td>0.202228</td>\n",
              "      <td>-0.033535</td>\n",
              "      <td>-0.996299</td>\n",
              "      <td>-0.999933</td>\n",
              "      <td>-0.946357</td>\n",
              "      <td>-0.815909</td>\n",
              "      <td>-0.999945</td>\n",
              "      <td>-0.999913</td>\n",
              "      <td>-0.992500</td>\n",
              "      <td>-0.4</td>\n",
              "      <td>-0.994739</td>\n",
              "      <td>0.573381</td>\n",
              "      <td>0.476707</td>\n",
              "      <td>-0.380755</td>\n",
              "      <td>-0.277682</td>\n",
              "      <td>-0.996037</td>\n",
              "      <td>-0.999964</td>\n",
              "      <td>-0.994087</td>\n",
              "      <td>-0.996446</td>\n",
              "      <td>0.266810</td>\n",
              "      <td>-0.989069</td>\n",
              "      <td>-0.996372</td>\n",
              "      <td>-0.996283</td>\n",
              "      <td>-0.993341</td>\n",
              "      <td>-0.993503</td>\n",
              "      <td>-0.994037</td>\n",
              "      <td>-1.000000</td>\n",
              "      <td>-0.991940</td>\n",
              "      <td>-0.995532</td>\n",
              "      <td>-0.886909</td>\n",
              "      <td>-1.000000</td>\n",
              "      <td>-0.938974</td>\n",
              "      <td>0.589635</td>\n",
              "      <td>0.845001</td>\n",
              "      <td>0.327644</td>\n",
              "      <td>1.0</td>\n",
              "      <td>-0.999962</td>\n",
              "      <td>LAYING</td>\n",
              "    </tr>\n",
              "    <tr>\n",
              "      <th>4154</th>\n",
              "      <td>0.793836</td>\n",
              "      <td>-0.426314</td>\n",
              "      <td>0.451282</td>\n",
              "      <td>-0.474013</td>\n",
              "      <td>-0.398585</td>\n",
              "      <td>0.383162</td>\n",
              "      <td>0.582097</td>\n",
              "      <td>0.551496</td>\n",
              "      <td>-0.331245</td>\n",
              "      <td>0.524181</td>\n",
              "      <td>-0.825206</td>\n",
              "      <td>-0.479702</td>\n",
              "      <td>-0.592987</td>\n",
              "      <td>-0.406240</td>\n",
              "      <td>-0.678314</td>\n",
              "      <td>-0.170299</td>\n",
              "      <td>-0.498946</td>\n",
              "      <td>-0.887685</td>\n",
              "      <td>0.316600</td>\n",
              "      <td>0.567493</td>\n",
              "      <td>-0.886711</td>\n",
              "      <td>-0.887736</td>\n",
              "      <td>-0.561118</td>\n",
              "      <td>-1.0</td>\n",
              "      <td>-0.358028</td>\n",
              "      <td>0.386081</td>\n",
              "      <td>-0.352672</td>\n",
              "      <td>-0.731530</td>\n",
              "      <td>0.717677</td>\n",
              "      <td>-0.385808</td>\n",
              "      <td>-0.756416</td>\n",
              "      <td>-0.570175</td>\n",
              "      <td>-0.471632</td>\n",
              "      <td>-0.607285</td>\n",
              "      <td>-0.261402</td>\n",
              "      <td>-0.502770</td>\n",
              "      <td>-0.367357</td>\n",
              "      <td>-0.411062</td>\n",
              "      <td>-0.603236</td>\n",
              "      <td>-0.462260</td>\n",
              "      <td>0.277542</td>\n",
              "      <td>-0.531375</td>\n",
              "      <td>-0.242063</td>\n",
              "      <td>-0.339631</td>\n",
              "      <td>-0.931035</td>\n",
              "      <td>-0.310961</td>\n",
              "      <td>-0.305974</td>\n",
              "      <td>0.678702</td>\n",
              "      <td>-0.133927</td>\n",
              "      <td>21.0</td>\n",
              "      <td>-0.898022</td>\n",
              "      <td>WALKING_UPSTAIRS</td>\n",
              "    </tr>\n",
              "    <tr>\n",
              "      <th>6945</th>\n",
              "      <td>0.938414</td>\n",
              "      <td>-0.200880</td>\n",
              "      <td>0.875585</td>\n",
              "      <td>-0.819001</td>\n",
              "      <td>0.086967</td>\n",
              "      <td>0.221549</td>\n",
              "      <td>0.572579</td>\n",
              "      <td>0.895134</td>\n",
              "      <td>0.214872</td>\n",
              "      <td>0.534448</td>\n",
              "      <td>-0.680180</td>\n",
              "      <td>-0.138687</td>\n",
              "      <td>-0.911576</td>\n",
              "      <td>-0.208714</td>\n",
              "      <td>-0.934913</td>\n",
              "      <td>-0.420902</td>\n",
              "      <td>-0.068880</td>\n",
              "      <td>-0.524136</td>\n",
              "      <td>0.668606</td>\n",
              "      <td>0.747878</td>\n",
              "      <td>-0.640941</td>\n",
              "      <td>-0.588443</td>\n",
              "      <td>-0.178260</td>\n",
              "      <td>-1.0</td>\n",
              "      <td>-0.225193</td>\n",
              "      <td>0.237400</td>\n",
              "      <td>-0.463560</td>\n",
              "      <td>-0.615555</td>\n",
              "      <td>0.895073</td>\n",
              "      <td>0.062909</td>\n",
              "      <td>-0.521349</td>\n",
              "      <td>-0.208280</td>\n",
              "      <td>-0.051454</td>\n",
              "      <td>-0.603507</td>\n",
              "      <td>-0.259662</td>\n",
              "      <td>-0.517197</td>\n",
              "      <td>-0.315806</td>\n",
              "      <td>-0.311047</td>\n",
              "      <td>-0.338012</td>\n",
              "      <td>-0.056719</td>\n",
              "      <td>0.662595</td>\n",
              "      <td>-0.096481</td>\n",
              "      <td>-0.007059</td>\n",
              "      <td>-0.179053</td>\n",
              "      <td>-0.586207</td>\n",
              "      <td>0.370607</td>\n",
              "      <td>0.036311</td>\n",
              "      <td>0.684212</td>\n",
              "      <td>-0.387886</td>\n",
              "      <td>29.0</td>\n",
              "      <td>0.192158</td>\n",
              "      <td>WALKING_UPSTAIRS</td>\n",
              "    </tr>\n",
              "  </tbody>\n",
              "</table>"
            ]
          },
          "metadata": {}
        }
      ]
    },
    {
      "cell_type": "markdown",
      "source": [
        "## Logistic Regression\n",
        "\n",
        "Starting with our simpliest model and probably the best in this senario Logistic Regression.\n",
        "\n",
        "We will try using training the model with and without PCA and record the difference."
      ],
      "metadata": {
        "id": "jgkRNq2q30y5"
      }
    },
    {
      "cell_type": "code",
      "source": [
        "len(to.train.xs.columns)"
      ],
      "metadata": {
        "colab": {
          "base_uri": "https://localhost:8080/"
        },
        "id": "zKd57xQDAr_L",
        "outputId": "d82ed0c4-135a-4d2d-c94f-314b443bd764"
      },
      "execution_count": null,
      "outputs": [
        {
          "output_type": "execute_result",
          "data": {
            "text/plain": [
              "51"
            ]
          },
          "metadata": {},
          "execution_count": 74
        }
      ]
    },
    {
      "cell_type": "code",
      "source": [
        "import random\n",
        "\n",
        "def generate_tuple(c_values, solvers, l1_ratio):\n",
        "  \"\"\"\n",
        "  Generates a random tuple containing values from the given lists.\n",
        "\n",
        "  Args:\n",
        "    c_values: A list of possible values for the first element of the tuple.\n",
        "    solvers: A list of possible values for the second element of the tuple.\n",
        "    l1_ratio: A list of possible values for the third element of the tuple.\n",
        "\n",
        "  Returns:\n",
        "    A tuple containing a randomly chosen value from each list.\n",
        "  \"\"\"\n",
        "\n",
        "  # Generate random values within the specified ranges (inclusive)\n",
        "  c_value = random.uniform(c_values[0], c_values[1])\n",
        "  l1_ratio = random.uniform(l1_ratio[0], l1_ratio[1])\n",
        "\n",
        "  return (\n",
        "    c_value,\n",
        "    random.choice(solvers),\n",
        "    l1_ratio\n",
        "  )"
      ],
      "metadata": {
        "id": "s0lYAxcGzrdh"
      },
      "execution_count": null,
      "outputs": []
    },
    {
      "cell_type": "code",
      "source": [
        "c_values = [0.1, 2.0]\n",
        "solvers = [\"lbfgs\", \"saga\", \"sag\"]\n",
        "l1_ratio = [0.1, 0.9]\n",
        "\n",
        "tried_values = [[], [], [], []]\n",
        "for i in range(15):\n",
        "  c, s, r = generate_tuple(c_values, solvers, l1_ratio)\n",
        "  print(f\"iteration: {i}\")\n",
        "\n",
        "  # apply transformation\n",
        "  xs = to.train.xs\n",
        "  valid_xs = to.valid.xs\n",
        "\n",
        "  # fitting logistic regression\n",
        "  if s == \"saga\":\n",
        "    logisticRegr = LogisticRegression(C=c, solver=s, penalty=\"elasticnet\", l1_ratio=r, max_iter=1300)\n",
        "  else:\n",
        "    logisticRegr = LogisticRegression(C=c, solver=s, penalty=\"l2\", max_iter=1300)\n",
        "    r = None\n",
        "  estimator = logisticRegr.fit(xs, to.train.y)\n",
        "\n",
        "  # predicting and calculating score\n",
        "  pred_y = estimator.predict(valid_xs)\n",
        "  macro_f1 = f1_score(to.valid.y, pred_y, average='macro')\n",
        "\n",
        "  # logging\n",
        "  tried_values[0].append(macro_f1)\n",
        "  tried_values[1].append(c)\n",
        "  tried_values[2].append(s)\n",
        "  tried_values[3].append(r)"
      ],
      "metadata": {
        "colab": {
          "base_uri": "https://localhost:8080/"
        },
        "id": "P-ZoiD92tIue",
        "outputId": "c5191ab5-0b5f-4d7e-bf20-6998f93be0d0"
      },
      "execution_count": null,
      "outputs": [
        {
          "output_type": "stream",
          "name": "stdout",
          "text": [
            "iteration: 0\n",
            "iteration: 1\n"
          ]
        },
        {
          "output_type": "stream",
          "name": "stderr",
          "text": [
            "/usr/local/lib/python3.10/dist-packages/sklearn/linear_model/_sag.py:349: ConvergenceWarning: The max_iter was reached which means the coef_ did not converge\n",
            "  warnings.warn(\n"
          ]
        },
        {
          "output_type": "stream",
          "name": "stdout",
          "text": [
            "iteration: 2\n",
            "iteration: 3\n",
            "iteration: 4\n",
            "iteration: 5\n"
          ]
        },
        {
          "output_type": "stream",
          "name": "stderr",
          "text": [
            "/usr/local/lib/python3.10/dist-packages/sklearn/linear_model/_sag.py:349: ConvergenceWarning: The max_iter was reached which means the coef_ did not converge\n",
            "  warnings.warn(\n"
          ]
        },
        {
          "output_type": "stream",
          "name": "stdout",
          "text": [
            "iteration: 6\n",
            "iteration: 7\n",
            "iteration: 8\n",
            "iteration: 9\n",
            "iteration: 10\n",
            "iteration: 11\n"
          ]
        },
        {
          "output_type": "stream",
          "name": "stderr",
          "text": [
            "/usr/local/lib/python3.10/dist-packages/sklearn/linear_model/_sag.py:349: ConvergenceWarning: The max_iter was reached which means the coef_ did not converge\n",
            "  warnings.warn(\n"
          ]
        },
        {
          "output_type": "stream",
          "name": "stdout",
          "text": [
            "iteration: 12\n",
            "iteration: 13\n",
            "iteration: 14\n"
          ]
        }
      ]
    },
    {
      "cell_type": "code",
      "source": [
        "data = {key: v for key, v in zip([\"macro_f1\", \"c\", \"solver\", \"l1_ratio\"], tried_values)}\n",
        "log_df = pd.DataFrame(data=data)\n",
        "log_df"
      ],
      "metadata": {
        "colab": {
          "base_uri": "https://localhost:8080/",
          "height": 520
        },
        "id": "luvchsHUtHhP",
        "outputId": "2fbfb106-3590-4901-f865-812461a445dd"
      },
      "execution_count": null,
      "outputs": [
        {
          "output_type": "execute_result",
          "data": {
            "text/plain": [
              "    macro_f1         c solver  l1_ratio\n",
              "0   0.955754  0.105282    sag       NaN\n",
              "1   0.959471  1.921598   saga  0.704149\n",
              "2   0.956663  1.242872    sag       NaN\n",
              "3   0.957794  0.839340   saga  0.436940\n",
              "4   0.958520  1.525296  lbfgs       NaN\n",
              "5   0.958855  1.362357   saga  0.699767\n",
              "6   0.957289  0.767833  lbfgs       NaN\n",
              "7   0.957289  0.797887    sag       NaN\n",
              "8   0.955728  0.723837  lbfgs       NaN\n",
              "9   0.958657  0.261694   saga  0.685075\n",
              "10  0.957388  0.552921  lbfgs       NaN\n",
              "11  0.959471  1.602414   saga  0.833570\n",
              "12  0.957289  1.392535   saga  0.149502\n",
              "13  0.959267  1.644958   saga  0.212703\n",
              "14  0.957289  1.288699   saga  0.332396"
            ],
            "text/html": [
              "\n",
              "  <div id=\"df-8d017551-57db-485f-b3a7-b89d1b8e1fd6\" class=\"colab-df-container\">\n",
              "    <div>\n",
              "<style scoped>\n",
              "    .dataframe tbody tr th:only-of-type {\n",
              "        vertical-align: middle;\n",
              "    }\n",
              "\n",
              "    .dataframe tbody tr th {\n",
              "        vertical-align: top;\n",
              "    }\n",
              "\n",
              "    .dataframe thead th {\n",
              "        text-align: right;\n",
              "    }\n",
              "</style>\n",
              "<table border=\"1\" class=\"dataframe\">\n",
              "  <thead>\n",
              "    <tr style=\"text-align: right;\">\n",
              "      <th></th>\n",
              "      <th>macro_f1</th>\n",
              "      <th>c</th>\n",
              "      <th>solver</th>\n",
              "      <th>l1_ratio</th>\n",
              "    </tr>\n",
              "  </thead>\n",
              "  <tbody>\n",
              "    <tr>\n",
              "      <th>0</th>\n",
              "      <td>0.955754</td>\n",
              "      <td>0.105282</td>\n",
              "      <td>sag</td>\n",
              "      <td>NaN</td>\n",
              "    </tr>\n",
              "    <tr>\n",
              "      <th>1</th>\n",
              "      <td>0.959471</td>\n",
              "      <td>1.921598</td>\n",
              "      <td>saga</td>\n",
              "      <td>0.704149</td>\n",
              "    </tr>\n",
              "    <tr>\n",
              "      <th>2</th>\n",
              "      <td>0.956663</td>\n",
              "      <td>1.242872</td>\n",
              "      <td>sag</td>\n",
              "      <td>NaN</td>\n",
              "    </tr>\n",
              "    <tr>\n",
              "      <th>3</th>\n",
              "      <td>0.957794</td>\n",
              "      <td>0.839340</td>\n",
              "      <td>saga</td>\n",
              "      <td>0.436940</td>\n",
              "    </tr>\n",
              "    <tr>\n",
              "      <th>4</th>\n",
              "      <td>0.958520</td>\n",
              "      <td>1.525296</td>\n",
              "      <td>lbfgs</td>\n",
              "      <td>NaN</td>\n",
              "    </tr>\n",
              "    <tr>\n",
              "      <th>5</th>\n",
              "      <td>0.958855</td>\n",
              "      <td>1.362357</td>\n",
              "      <td>saga</td>\n",
              "      <td>0.699767</td>\n",
              "    </tr>\n",
              "    <tr>\n",
              "      <th>6</th>\n",
              "      <td>0.957289</td>\n",
              "      <td>0.767833</td>\n",
              "      <td>lbfgs</td>\n",
              "      <td>NaN</td>\n",
              "    </tr>\n",
              "    <tr>\n",
              "      <th>7</th>\n",
              "      <td>0.957289</td>\n",
              "      <td>0.797887</td>\n",
              "      <td>sag</td>\n",
              "      <td>NaN</td>\n",
              "    </tr>\n",
              "    <tr>\n",
              "      <th>8</th>\n",
              "      <td>0.955728</td>\n",
              "      <td>0.723837</td>\n",
              "      <td>lbfgs</td>\n",
              "      <td>NaN</td>\n",
              "    </tr>\n",
              "    <tr>\n",
              "      <th>9</th>\n",
              "      <td>0.958657</td>\n",
              "      <td>0.261694</td>\n",
              "      <td>saga</td>\n",
              "      <td>0.685075</td>\n",
              "    </tr>\n",
              "    <tr>\n",
              "      <th>10</th>\n",
              "      <td>0.957388</td>\n",
              "      <td>0.552921</td>\n",
              "      <td>lbfgs</td>\n",
              "      <td>NaN</td>\n",
              "    </tr>\n",
              "    <tr>\n",
              "      <th>11</th>\n",
              "      <td>0.959471</td>\n",
              "      <td>1.602414</td>\n",
              "      <td>saga</td>\n",
              "      <td>0.833570</td>\n",
              "    </tr>\n",
              "    <tr>\n",
              "      <th>12</th>\n",
              "      <td>0.957289</td>\n",
              "      <td>1.392535</td>\n",
              "      <td>saga</td>\n",
              "      <td>0.149502</td>\n",
              "    </tr>\n",
              "    <tr>\n",
              "      <th>13</th>\n",
              "      <td>0.959267</td>\n",
              "      <td>1.644958</td>\n",
              "      <td>saga</td>\n",
              "      <td>0.212703</td>\n",
              "    </tr>\n",
              "    <tr>\n",
              "      <th>14</th>\n",
              "      <td>0.957289</td>\n",
              "      <td>1.288699</td>\n",
              "      <td>saga</td>\n",
              "      <td>0.332396</td>\n",
              "    </tr>\n",
              "  </tbody>\n",
              "</table>\n",
              "</div>\n",
              "    <div class=\"colab-df-buttons\">\n",
              "\n",
              "  <div class=\"colab-df-container\">\n",
              "    <button class=\"colab-df-convert\" onclick=\"convertToInteractive('df-8d017551-57db-485f-b3a7-b89d1b8e1fd6')\"\n",
              "            title=\"Convert this dataframe to an interactive table.\"\n",
              "            style=\"display:none;\">\n",
              "\n",
              "  <svg xmlns=\"http://www.w3.org/2000/svg\" height=\"24px\" viewBox=\"0 -960 960 960\">\n",
              "    <path d=\"M120-120v-720h720v720H120Zm60-500h600v-160H180v160Zm220 220h160v-160H400v160Zm0 220h160v-160H400v160ZM180-400h160v-160H180v160Zm440 0h160v-160H620v160ZM180-180h160v-160H180v160Zm440 0h160v-160H620v160Z\"/>\n",
              "  </svg>\n",
              "    </button>\n",
              "\n",
              "  <style>\n",
              "    .colab-df-container {\n",
              "      display:flex;\n",
              "      gap: 12px;\n",
              "    }\n",
              "\n",
              "    .colab-df-convert {\n",
              "      background-color: #E8F0FE;\n",
              "      border: none;\n",
              "      border-radius: 50%;\n",
              "      cursor: pointer;\n",
              "      display: none;\n",
              "      fill: #1967D2;\n",
              "      height: 32px;\n",
              "      padding: 0 0 0 0;\n",
              "      width: 32px;\n",
              "    }\n",
              "\n",
              "    .colab-df-convert:hover {\n",
              "      background-color: #E2EBFA;\n",
              "      box-shadow: 0px 1px 2px rgba(60, 64, 67, 0.3), 0px 1px 3px 1px rgba(60, 64, 67, 0.15);\n",
              "      fill: #174EA6;\n",
              "    }\n",
              "\n",
              "    .colab-df-buttons div {\n",
              "      margin-bottom: 4px;\n",
              "    }\n",
              "\n",
              "    [theme=dark] .colab-df-convert {\n",
              "      background-color: #3B4455;\n",
              "      fill: #D2E3FC;\n",
              "    }\n",
              "\n",
              "    [theme=dark] .colab-df-convert:hover {\n",
              "      background-color: #434B5C;\n",
              "      box-shadow: 0px 1px 3px 1px rgba(0, 0, 0, 0.15);\n",
              "      filter: drop-shadow(0px 1px 2px rgba(0, 0, 0, 0.3));\n",
              "      fill: #FFFFFF;\n",
              "    }\n",
              "  </style>\n",
              "\n",
              "    <script>\n",
              "      const buttonEl =\n",
              "        document.querySelector('#df-8d017551-57db-485f-b3a7-b89d1b8e1fd6 button.colab-df-convert');\n",
              "      buttonEl.style.display =\n",
              "        google.colab.kernel.accessAllowed ? 'block' : 'none';\n",
              "\n",
              "      async function convertToInteractive(key) {\n",
              "        const element = document.querySelector('#df-8d017551-57db-485f-b3a7-b89d1b8e1fd6');\n",
              "        const dataTable =\n",
              "          await google.colab.kernel.invokeFunction('convertToInteractive',\n",
              "                                                    [key], {});\n",
              "        if (!dataTable) return;\n",
              "\n",
              "        const docLinkHtml = 'Like what you see? Visit the ' +\n",
              "          '<a target=\"_blank\" href=https://colab.research.google.com/notebooks/data_table.ipynb>data table notebook</a>'\n",
              "          + ' to learn more about interactive tables.';\n",
              "        element.innerHTML = '';\n",
              "        dataTable['output_type'] = 'display_data';\n",
              "        await google.colab.output.renderOutput(dataTable, element);\n",
              "        const docLink = document.createElement('div');\n",
              "        docLink.innerHTML = docLinkHtml;\n",
              "        element.appendChild(docLink);\n",
              "      }\n",
              "    </script>\n",
              "  </div>\n",
              "\n",
              "\n",
              "<div id=\"df-d49ee028-4f0f-4f57-abe4-087bc31e2bbf\">\n",
              "  <button class=\"colab-df-quickchart\" onclick=\"quickchart('df-d49ee028-4f0f-4f57-abe4-087bc31e2bbf')\"\n",
              "            title=\"Suggest charts\"\n",
              "            style=\"display:none;\">\n",
              "\n",
              "<svg xmlns=\"http://www.w3.org/2000/svg\" height=\"24px\"viewBox=\"0 0 24 24\"\n",
              "     width=\"24px\">\n",
              "    <g>\n",
              "        <path d=\"M19 3H5c-1.1 0-2 .9-2 2v14c0 1.1.9 2 2 2h14c1.1 0 2-.9 2-2V5c0-1.1-.9-2-2-2zM9 17H7v-7h2v7zm4 0h-2V7h2v10zm4 0h-2v-4h2v4z\"/>\n",
              "    </g>\n",
              "</svg>\n",
              "  </button>\n",
              "\n",
              "<style>\n",
              "  .colab-df-quickchart {\n",
              "      --bg-color: #E8F0FE;\n",
              "      --fill-color: #1967D2;\n",
              "      --hover-bg-color: #E2EBFA;\n",
              "      --hover-fill-color: #174EA6;\n",
              "      --disabled-fill-color: #AAA;\n",
              "      --disabled-bg-color: #DDD;\n",
              "  }\n",
              "\n",
              "  [theme=dark] .colab-df-quickchart {\n",
              "      --bg-color: #3B4455;\n",
              "      --fill-color: #D2E3FC;\n",
              "      --hover-bg-color: #434B5C;\n",
              "      --hover-fill-color: #FFFFFF;\n",
              "      --disabled-bg-color: #3B4455;\n",
              "      --disabled-fill-color: #666;\n",
              "  }\n",
              "\n",
              "  .colab-df-quickchart {\n",
              "    background-color: var(--bg-color);\n",
              "    border: none;\n",
              "    border-radius: 50%;\n",
              "    cursor: pointer;\n",
              "    display: none;\n",
              "    fill: var(--fill-color);\n",
              "    height: 32px;\n",
              "    padding: 0;\n",
              "    width: 32px;\n",
              "  }\n",
              "\n",
              "  .colab-df-quickchart:hover {\n",
              "    background-color: var(--hover-bg-color);\n",
              "    box-shadow: 0 1px 2px rgba(60, 64, 67, 0.3), 0 1px 3px 1px rgba(60, 64, 67, 0.15);\n",
              "    fill: var(--button-hover-fill-color);\n",
              "  }\n",
              "\n",
              "  .colab-df-quickchart-complete:disabled,\n",
              "  .colab-df-quickchart-complete:disabled:hover {\n",
              "    background-color: var(--disabled-bg-color);\n",
              "    fill: var(--disabled-fill-color);\n",
              "    box-shadow: none;\n",
              "  }\n",
              "\n",
              "  .colab-df-spinner {\n",
              "    border: 2px solid var(--fill-color);\n",
              "    border-color: transparent;\n",
              "    border-bottom-color: var(--fill-color);\n",
              "    animation:\n",
              "      spin 1s steps(1) infinite;\n",
              "  }\n",
              "\n",
              "  @keyframes spin {\n",
              "    0% {\n",
              "      border-color: transparent;\n",
              "      border-bottom-color: var(--fill-color);\n",
              "      border-left-color: var(--fill-color);\n",
              "    }\n",
              "    20% {\n",
              "      border-color: transparent;\n",
              "      border-left-color: var(--fill-color);\n",
              "      border-top-color: var(--fill-color);\n",
              "    }\n",
              "    30% {\n",
              "      border-color: transparent;\n",
              "      border-left-color: var(--fill-color);\n",
              "      border-top-color: var(--fill-color);\n",
              "      border-right-color: var(--fill-color);\n",
              "    }\n",
              "    40% {\n",
              "      border-color: transparent;\n",
              "      border-right-color: var(--fill-color);\n",
              "      border-top-color: var(--fill-color);\n",
              "    }\n",
              "    60% {\n",
              "      border-color: transparent;\n",
              "      border-right-color: var(--fill-color);\n",
              "    }\n",
              "    80% {\n",
              "      border-color: transparent;\n",
              "      border-right-color: var(--fill-color);\n",
              "      border-bottom-color: var(--fill-color);\n",
              "    }\n",
              "    90% {\n",
              "      border-color: transparent;\n",
              "      border-bottom-color: var(--fill-color);\n",
              "    }\n",
              "  }\n",
              "</style>\n",
              "\n",
              "  <script>\n",
              "    async function quickchart(key) {\n",
              "      const quickchartButtonEl =\n",
              "        document.querySelector('#' + key + ' button');\n",
              "      quickchartButtonEl.disabled = true;  // To prevent multiple clicks.\n",
              "      quickchartButtonEl.classList.add('colab-df-spinner');\n",
              "      try {\n",
              "        const charts = await google.colab.kernel.invokeFunction(\n",
              "            'suggestCharts', [key], {});\n",
              "      } catch (error) {\n",
              "        console.error('Error during call to suggestCharts:', error);\n",
              "      }\n",
              "      quickchartButtonEl.classList.remove('colab-df-spinner');\n",
              "      quickchartButtonEl.classList.add('colab-df-quickchart-complete');\n",
              "    }\n",
              "    (() => {\n",
              "      let quickchartButtonEl =\n",
              "        document.querySelector('#df-d49ee028-4f0f-4f57-abe4-087bc31e2bbf button');\n",
              "      quickchartButtonEl.style.display =\n",
              "        google.colab.kernel.accessAllowed ? 'block' : 'none';\n",
              "    })();\n",
              "  </script>\n",
              "</div>\n",
              "\n",
              "  <div id=\"id_3dcdc449-5a6c-4132-bf87-d0c968b28e5f\">\n",
              "    <style>\n",
              "      .colab-df-generate {\n",
              "        background-color: #E8F0FE;\n",
              "        border: none;\n",
              "        border-radius: 50%;\n",
              "        cursor: pointer;\n",
              "        display: none;\n",
              "        fill: #1967D2;\n",
              "        height: 32px;\n",
              "        padding: 0 0 0 0;\n",
              "        width: 32px;\n",
              "      }\n",
              "\n",
              "      .colab-df-generate:hover {\n",
              "        background-color: #E2EBFA;\n",
              "        box-shadow: 0px 1px 2px rgba(60, 64, 67, 0.3), 0px 1px 3px 1px rgba(60, 64, 67, 0.15);\n",
              "        fill: #174EA6;\n",
              "      }\n",
              "\n",
              "      [theme=dark] .colab-df-generate {\n",
              "        background-color: #3B4455;\n",
              "        fill: #D2E3FC;\n",
              "      }\n",
              "\n",
              "      [theme=dark] .colab-df-generate:hover {\n",
              "        background-color: #434B5C;\n",
              "        box-shadow: 0px 1px 3px 1px rgba(0, 0, 0, 0.15);\n",
              "        filter: drop-shadow(0px 1px 2px rgba(0, 0, 0, 0.3));\n",
              "        fill: #FFFFFF;\n",
              "      }\n",
              "    </style>\n",
              "    <button class=\"colab-df-generate\" onclick=\"generateWithVariable('log_df')\"\n",
              "            title=\"Generate code using this dataframe.\"\n",
              "            style=\"display:none;\">\n",
              "\n",
              "  <svg xmlns=\"http://www.w3.org/2000/svg\" height=\"24px\"viewBox=\"0 0 24 24\"\n",
              "       width=\"24px\">\n",
              "    <path d=\"M7,19H8.4L18.45,9,17,7.55,7,17.6ZM5,21V16.75L18.45,3.32a2,2,0,0,1,2.83,0l1.4,1.43a1.91,1.91,0,0,1,.58,1.4,1.91,1.91,0,0,1-.58,1.4L9.25,21ZM18.45,9,17,7.55Zm-12,3A5.31,5.31,0,0,0,4.9,8.1,5.31,5.31,0,0,0,1,6.5,5.31,5.31,0,0,0,4.9,4.9,5.31,5.31,0,0,0,6.5,1,5.31,5.31,0,0,0,8.1,4.9,5.31,5.31,0,0,0,12,6.5,5.46,5.46,0,0,0,6.5,12Z\"/>\n",
              "  </svg>\n",
              "    </button>\n",
              "    <script>\n",
              "      (() => {\n",
              "      const buttonEl =\n",
              "        document.querySelector('#id_3dcdc449-5a6c-4132-bf87-d0c968b28e5f button.colab-df-generate');\n",
              "      buttonEl.style.display =\n",
              "        google.colab.kernel.accessAllowed ? 'block' : 'none';\n",
              "\n",
              "      buttonEl.onclick = () => {\n",
              "        google.colab.notebook.generateWithVariable('log_df');\n",
              "      }\n",
              "      })();\n",
              "    </script>\n",
              "  </div>\n",
              "\n",
              "    </div>\n",
              "  </div>\n"
            ],
            "application/vnd.google.colaboratory.intrinsic+json": {
              "type": "dataframe",
              "variable_name": "log_df",
              "summary": "{\n  \"name\": \"log_df\",\n  \"rows\": 15,\n  \"fields\": [\n    {\n      \"column\": \"macro_f1\",\n      \"properties\": {\n        \"dtype\": \"number\",\n        \"std\": 0.001227096050216025,\n        \"min\": 0.9557281697171089,\n        \"max\": 0.959470704572806,\n        \"num_unique_values\": 11,\n        \"samples\": [\n          0.9588552113124122,\n          0.9557541213266548,\n          0.9573875607120819\n        ],\n        \"semantic_type\": \"\",\n        \"description\": \"\"\n      }\n    },\n    {\n      \"column\": \"c\",\n      \"properties\": {\n        \"dtype\": \"number\",\n        \"std\": 0.5347586776394336,\n        \"min\": 0.1052816993140806,\n        \"max\": 1.92159789239436,\n        \"num_unique_values\": 15,\n        \"samples\": [\n          0.2616944805998904,\n          1.6024143451213249,\n          0.1052816993140806\n        ],\n        \"semantic_type\": \"\",\n        \"description\": \"\"\n      }\n    },\n    {\n      \"column\": \"solver\",\n      \"properties\": {\n        \"dtype\": \"category\",\n        \"num_unique_values\": 3,\n        \"samples\": [\n          \"sag\",\n          \"saga\",\n          \"lbfgs\"\n        ],\n        \"semantic_type\": \"\",\n        \"description\": \"\"\n      }\n    },\n    {\n      \"column\": \"l1_ratio\",\n      \"properties\": {\n        \"dtype\": \"number\",\n        \"std\": 0.25751432706542704,\n        \"min\": 0.1495024183489771,\n        \"max\": 0.833570129556842,\n        \"num_unique_values\": 8,\n        \"samples\": [\n          0.43693973903646544,\n          0.1495024183489771,\n          0.704149208406469\n        ],\n        \"semantic_type\": \"\",\n        \"description\": \"\"\n      }\n    }\n  ]\n}"
            }
          },
          "metadata": {},
          "execution_count": 65
        }
      ]
    },
    {
      "cell_type": "code",
      "source": [
        "log_df.macro_f1.max()"
      ],
      "metadata": {
        "colab": {
          "base_uri": "https://localhost:8080/"
        },
        "id": "0W8oLxxYBRCz",
        "outputId": "4b7f1c9e-db8d-4b0d-8c8b-a77f68ef7b75"
      },
      "execution_count": null,
      "outputs": [
        {
          "output_type": "execute_result",
          "data": {
            "text/plain": [
              "0.959470704572806"
            ]
          },
          "metadata": {},
          "execution_count": 77
        }
      ]
    },
    {
      "cell_type": "code",
      "source": [
        "model_metrics = {\n",
        "    \"macro_f1\": [],\n",
        "    \"number_of_components\": []\n",
        "}\n",
        "\n",
        "c_values = [0.05, 0.1, 0.25, 0.5, 1.5]\n",
        "variance_retained = [0.99, 0.95, 0.95, 0.9, 0.9]"
      ],
      "metadata": {
        "id": "bLxFr4IQKKw-"
      },
      "execution_count": null,
      "outputs": []
    },
    {
      "cell_type": "code",
      "source": [
        "n = 0\n",
        "for c, v in zip(c_values, variance_retained):\n",
        "  print(f\"number: {n}\")\n",
        "  n += 1\n",
        "  # fitting PCA to a variance\n",
        "  pca = PCA(n_components=v)\n",
        "  pca.fit(to.train.xs)\n",
        "\n",
        "  # apply transformation\n",
        "  xs = pca.transform(to.train.xs)\n",
        "  valid_xs = pca.transform(to.valid.xs)\n",
        "\n",
        "  # fitting logistic regression\n",
        "  logisticRegr = LogisticRegression(C=c, solver='saga', penalty=\"elasticnet\", l1_ratio=0.4, max_iter=1300)\n",
        "  estimator = logisticRegr.fit(xs, to.train.y)\n",
        "\n",
        "  # predicting and calculating score\n",
        "  pred_y = estimator.predict(valid_xs)\n",
        "  macro_f1 = f1_score(to.valid.y, pred_y, average='macro')\n",
        "\n",
        "  # logging\n",
        "  model_metrics[\"macro_f1\"].append(macro_f1)\n",
        "  model_metrics[\"number_of_components\"].append(pca.n_components_)"
      ],
      "metadata": {
        "colab": {
          "base_uri": "https://localhost:8080/"
        },
        "id": "t8zyKNrkBUmx",
        "outputId": "4ae3c287-ddb8-4954-96c8-35af71b64605"
      },
      "execution_count": null,
      "outputs": [
        {
          "output_type": "stream",
          "name": "stdout",
          "text": [
            "number: 0\n",
            "number: 1\n",
            "number: 2\n",
            "number: 3\n",
            "number: 4\n"
          ]
        }
      ]
    },
    {
      "cell_type": "code",
      "source": [
        "model_metrics[\"c_value\"] = c_values\n",
        "model_metrics[\"variance_retained\"] = variance_retained\n",
        "\n",
        "metric_df = pd.DataFrame(model_metrics)\n",
        "metric_df"
      ],
      "metadata": {
        "colab": {
          "base_uri": "https://localhost:8080/",
          "height": 206
        },
        "id": "0F3KanDwKBZ4",
        "outputId": "f0fb7285-563f-4604-8ab0-27badf824aa5"
      },
      "execution_count": null,
      "outputs": [
        {
          "output_type": "execute_result",
          "data": {
            "text/plain": [
              "   macro_f1  number_of_components  c_value  variance_retained\n",
              "0  0.942168                    21     0.05               0.99\n",
              "1  0.937110                    14     0.10               0.95\n",
              "2  0.940921                    14     0.25               0.95\n",
              "3  0.914592                     9     0.50               0.90\n",
              "4  0.917742                     9     1.50               0.90"
            ],
            "text/html": [
              "\n",
              "  <div id=\"df-cbec4a9b-a7ff-4e27-ac08-6eb1db6f0186\" class=\"colab-df-container\">\n",
              "    <div>\n",
              "<style scoped>\n",
              "    .dataframe tbody tr th:only-of-type {\n",
              "        vertical-align: middle;\n",
              "    }\n",
              "\n",
              "    .dataframe tbody tr th {\n",
              "        vertical-align: top;\n",
              "    }\n",
              "\n",
              "    .dataframe thead th {\n",
              "        text-align: right;\n",
              "    }\n",
              "</style>\n",
              "<table border=\"1\" class=\"dataframe\">\n",
              "  <thead>\n",
              "    <tr style=\"text-align: right;\">\n",
              "      <th></th>\n",
              "      <th>macro_f1</th>\n",
              "      <th>number_of_components</th>\n",
              "      <th>c_value</th>\n",
              "      <th>variance_retained</th>\n",
              "    </tr>\n",
              "  </thead>\n",
              "  <tbody>\n",
              "    <tr>\n",
              "      <th>0</th>\n",
              "      <td>0.942168</td>\n",
              "      <td>21</td>\n",
              "      <td>0.05</td>\n",
              "      <td>0.99</td>\n",
              "    </tr>\n",
              "    <tr>\n",
              "      <th>1</th>\n",
              "      <td>0.937110</td>\n",
              "      <td>14</td>\n",
              "      <td>0.10</td>\n",
              "      <td>0.95</td>\n",
              "    </tr>\n",
              "    <tr>\n",
              "      <th>2</th>\n",
              "      <td>0.940921</td>\n",
              "      <td>14</td>\n",
              "      <td>0.25</td>\n",
              "      <td>0.95</td>\n",
              "    </tr>\n",
              "    <tr>\n",
              "      <th>3</th>\n",
              "      <td>0.914592</td>\n",
              "      <td>9</td>\n",
              "      <td>0.50</td>\n",
              "      <td>0.90</td>\n",
              "    </tr>\n",
              "    <tr>\n",
              "      <th>4</th>\n",
              "      <td>0.917742</td>\n",
              "      <td>9</td>\n",
              "      <td>1.50</td>\n",
              "      <td>0.90</td>\n",
              "    </tr>\n",
              "  </tbody>\n",
              "</table>\n",
              "</div>\n",
              "    <div class=\"colab-df-buttons\">\n",
              "\n",
              "  <div class=\"colab-df-container\">\n",
              "    <button class=\"colab-df-convert\" onclick=\"convertToInteractive('df-cbec4a9b-a7ff-4e27-ac08-6eb1db6f0186')\"\n",
              "            title=\"Convert this dataframe to an interactive table.\"\n",
              "            style=\"display:none;\">\n",
              "\n",
              "  <svg xmlns=\"http://www.w3.org/2000/svg\" height=\"24px\" viewBox=\"0 -960 960 960\">\n",
              "    <path d=\"M120-120v-720h720v720H120Zm60-500h600v-160H180v160Zm220 220h160v-160H400v160Zm0 220h160v-160H400v160ZM180-400h160v-160H180v160Zm440 0h160v-160H620v160ZM180-180h160v-160H180v160Zm440 0h160v-160H620v160Z\"/>\n",
              "  </svg>\n",
              "    </button>\n",
              "\n",
              "  <style>\n",
              "    .colab-df-container {\n",
              "      display:flex;\n",
              "      gap: 12px;\n",
              "    }\n",
              "\n",
              "    .colab-df-convert {\n",
              "      background-color: #E8F0FE;\n",
              "      border: none;\n",
              "      border-radius: 50%;\n",
              "      cursor: pointer;\n",
              "      display: none;\n",
              "      fill: #1967D2;\n",
              "      height: 32px;\n",
              "      padding: 0 0 0 0;\n",
              "      width: 32px;\n",
              "    }\n",
              "\n",
              "    .colab-df-convert:hover {\n",
              "      background-color: #E2EBFA;\n",
              "      box-shadow: 0px 1px 2px rgba(60, 64, 67, 0.3), 0px 1px 3px 1px rgba(60, 64, 67, 0.15);\n",
              "      fill: #174EA6;\n",
              "    }\n",
              "\n",
              "    .colab-df-buttons div {\n",
              "      margin-bottom: 4px;\n",
              "    }\n",
              "\n",
              "    [theme=dark] .colab-df-convert {\n",
              "      background-color: #3B4455;\n",
              "      fill: #D2E3FC;\n",
              "    }\n",
              "\n",
              "    [theme=dark] .colab-df-convert:hover {\n",
              "      background-color: #434B5C;\n",
              "      box-shadow: 0px 1px 3px 1px rgba(0, 0, 0, 0.15);\n",
              "      filter: drop-shadow(0px 1px 2px rgba(0, 0, 0, 0.3));\n",
              "      fill: #FFFFFF;\n",
              "    }\n",
              "  </style>\n",
              "\n",
              "    <script>\n",
              "      const buttonEl =\n",
              "        document.querySelector('#df-cbec4a9b-a7ff-4e27-ac08-6eb1db6f0186 button.colab-df-convert');\n",
              "      buttonEl.style.display =\n",
              "        google.colab.kernel.accessAllowed ? 'block' : 'none';\n",
              "\n",
              "      async function convertToInteractive(key) {\n",
              "        const element = document.querySelector('#df-cbec4a9b-a7ff-4e27-ac08-6eb1db6f0186');\n",
              "        const dataTable =\n",
              "          await google.colab.kernel.invokeFunction('convertToInteractive',\n",
              "                                                    [key], {});\n",
              "        if (!dataTable) return;\n",
              "\n",
              "        const docLinkHtml = 'Like what you see? Visit the ' +\n",
              "          '<a target=\"_blank\" href=https://colab.research.google.com/notebooks/data_table.ipynb>data table notebook</a>'\n",
              "          + ' to learn more about interactive tables.';\n",
              "        element.innerHTML = '';\n",
              "        dataTable['output_type'] = 'display_data';\n",
              "        await google.colab.output.renderOutput(dataTable, element);\n",
              "        const docLink = document.createElement('div');\n",
              "        docLink.innerHTML = docLinkHtml;\n",
              "        element.appendChild(docLink);\n",
              "      }\n",
              "    </script>\n",
              "  </div>\n",
              "\n",
              "\n",
              "<div id=\"df-e131a1ae-4cce-49c8-b905-05a63f4340e4\">\n",
              "  <button class=\"colab-df-quickchart\" onclick=\"quickchart('df-e131a1ae-4cce-49c8-b905-05a63f4340e4')\"\n",
              "            title=\"Suggest charts\"\n",
              "            style=\"display:none;\">\n",
              "\n",
              "<svg xmlns=\"http://www.w3.org/2000/svg\" height=\"24px\"viewBox=\"0 0 24 24\"\n",
              "     width=\"24px\">\n",
              "    <g>\n",
              "        <path d=\"M19 3H5c-1.1 0-2 .9-2 2v14c0 1.1.9 2 2 2h14c1.1 0 2-.9 2-2V5c0-1.1-.9-2-2-2zM9 17H7v-7h2v7zm4 0h-2V7h2v10zm4 0h-2v-4h2v4z\"/>\n",
              "    </g>\n",
              "</svg>\n",
              "  </button>\n",
              "\n",
              "<style>\n",
              "  .colab-df-quickchart {\n",
              "      --bg-color: #E8F0FE;\n",
              "      --fill-color: #1967D2;\n",
              "      --hover-bg-color: #E2EBFA;\n",
              "      --hover-fill-color: #174EA6;\n",
              "      --disabled-fill-color: #AAA;\n",
              "      --disabled-bg-color: #DDD;\n",
              "  }\n",
              "\n",
              "  [theme=dark] .colab-df-quickchart {\n",
              "      --bg-color: #3B4455;\n",
              "      --fill-color: #D2E3FC;\n",
              "      --hover-bg-color: #434B5C;\n",
              "      --hover-fill-color: #FFFFFF;\n",
              "      --disabled-bg-color: #3B4455;\n",
              "      --disabled-fill-color: #666;\n",
              "  }\n",
              "\n",
              "  .colab-df-quickchart {\n",
              "    background-color: var(--bg-color);\n",
              "    border: none;\n",
              "    border-radius: 50%;\n",
              "    cursor: pointer;\n",
              "    display: none;\n",
              "    fill: var(--fill-color);\n",
              "    height: 32px;\n",
              "    padding: 0;\n",
              "    width: 32px;\n",
              "  }\n",
              "\n",
              "  .colab-df-quickchart:hover {\n",
              "    background-color: var(--hover-bg-color);\n",
              "    box-shadow: 0 1px 2px rgba(60, 64, 67, 0.3), 0 1px 3px 1px rgba(60, 64, 67, 0.15);\n",
              "    fill: var(--button-hover-fill-color);\n",
              "  }\n",
              "\n",
              "  .colab-df-quickchart-complete:disabled,\n",
              "  .colab-df-quickchart-complete:disabled:hover {\n",
              "    background-color: var(--disabled-bg-color);\n",
              "    fill: var(--disabled-fill-color);\n",
              "    box-shadow: none;\n",
              "  }\n",
              "\n",
              "  .colab-df-spinner {\n",
              "    border: 2px solid var(--fill-color);\n",
              "    border-color: transparent;\n",
              "    border-bottom-color: var(--fill-color);\n",
              "    animation:\n",
              "      spin 1s steps(1) infinite;\n",
              "  }\n",
              "\n",
              "  @keyframes spin {\n",
              "    0% {\n",
              "      border-color: transparent;\n",
              "      border-bottom-color: var(--fill-color);\n",
              "      border-left-color: var(--fill-color);\n",
              "    }\n",
              "    20% {\n",
              "      border-color: transparent;\n",
              "      border-left-color: var(--fill-color);\n",
              "      border-top-color: var(--fill-color);\n",
              "    }\n",
              "    30% {\n",
              "      border-color: transparent;\n",
              "      border-left-color: var(--fill-color);\n",
              "      border-top-color: var(--fill-color);\n",
              "      border-right-color: var(--fill-color);\n",
              "    }\n",
              "    40% {\n",
              "      border-color: transparent;\n",
              "      border-right-color: var(--fill-color);\n",
              "      border-top-color: var(--fill-color);\n",
              "    }\n",
              "    60% {\n",
              "      border-color: transparent;\n",
              "      border-right-color: var(--fill-color);\n",
              "    }\n",
              "    80% {\n",
              "      border-color: transparent;\n",
              "      border-right-color: var(--fill-color);\n",
              "      border-bottom-color: var(--fill-color);\n",
              "    }\n",
              "    90% {\n",
              "      border-color: transparent;\n",
              "      border-bottom-color: var(--fill-color);\n",
              "    }\n",
              "  }\n",
              "</style>\n",
              "\n",
              "  <script>\n",
              "    async function quickchart(key) {\n",
              "      const quickchartButtonEl =\n",
              "        document.querySelector('#' + key + ' button');\n",
              "      quickchartButtonEl.disabled = true;  // To prevent multiple clicks.\n",
              "      quickchartButtonEl.classList.add('colab-df-spinner');\n",
              "      try {\n",
              "        const charts = await google.colab.kernel.invokeFunction(\n",
              "            'suggestCharts', [key], {});\n",
              "      } catch (error) {\n",
              "        console.error('Error during call to suggestCharts:', error);\n",
              "      }\n",
              "      quickchartButtonEl.classList.remove('colab-df-spinner');\n",
              "      quickchartButtonEl.classList.add('colab-df-quickchart-complete');\n",
              "    }\n",
              "    (() => {\n",
              "      let quickchartButtonEl =\n",
              "        document.querySelector('#df-e131a1ae-4cce-49c8-b905-05a63f4340e4 button');\n",
              "      quickchartButtonEl.style.display =\n",
              "        google.colab.kernel.accessAllowed ? 'block' : 'none';\n",
              "    })();\n",
              "  </script>\n",
              "</div>\n",
              "\n",
              "  <div id=\"id_98607a86-86fb-4d6a-9a19-3eb28b6b81b4\">\n",
              "    <style>\n",
              "      .colab-df-generate {\n",
              "        background-color: #E8F0FE;\n",
              "        border: none;\n",
              "        border-radius: 50%;\n",
              "        cursor: pointer;\n",
              "        display: none;\n",
              "        fill: #1967D2;\n",
              "        height: 32px;\n",
              "        padding: 0 0 0 0;\n",
              "        width: 32px;\n",
              "      }\n",
              "\n",
              "      .colab-df-generate:hover {\n",
              "        background-color: #E2EBFA;\n",
              "        box-shadow: 0px 1px 2px rgba(60, 64, 67, 0.3), 0px 1px 3px 1px rgba(60, 64, 67, 0.15);\n",
              "        fill: #174EA6;\n",
              "      }\n",
              "\n",
              "      [theme=dark] .colab-df-generate {\n",
              "        background-color: #3B4455;\n",
              "        fill: #D2E3FC;\n",
              "      }\n",
              "\n",
              "      [theme=dark] .colab-df-generate:hover {\n",
              "        background-color: #434B5C;\n",
              "        box-shadow: 0px 1px 3px 1px rgba(0, 0, 0, 0.15);\n",
              "        filter: drop-shadow(0px 1px 2px rgba(0, 0, 0, 0.3));\n",
              "        fill: #FFFFFF;\n",
              "      }\n",
              "    </style>\n",
              "    <button class=\"colab-df-generate\" onclick=\"generateWithVariable('metric_df')\"\n",
              "            title=\"Generate code using this dataframe.\"\n",
              "            style=\"display:none;\">\n",
              "\n",
              "  <svg xmlns=\"http://www.w3.org/2000/svg\" height=\"24px\"viewBox=\"0 0 24 24\"\n",
              "       width=\"24px\">\n",
              "    <path d=\"M7,19H8.4L18.45,9,17,7.55,7,17.6ZM5,21V16.75L18.45,3.32a2,2,0,0,1,2.83,0l1.4,1.43a1.91,1.91,0,0,1,.58,1.4,1.91,1.91,0,0,1-.58,1.4L9.25,21ZM18.45,9,17,7.55Zm-12,3A5.31,5.31,0,0,0,4.9,8.1,5.31,5.31,0,0,0,1,6.5,5.31,5.31,0,0,0,4.9,4.9,5.31,5.31,0,0,0,6.5,1,5.31,5.31,0,0,0,8.1,4.9,5.31,5.31,0,0,0,12,6.5,5.46,5.46,0,0,0,6.5,12Z\"/>\n",
              "  </svg>\n",
              "    </button>\n",
              "    <script>\n",
              "      (() => {\n",
              "      const buttonEl =\n",
              "        document.querySelector('#id_98607a86-86fb-4d6a-9a19-3eb28b6b81b4 button.colab-df-generate');\n",
              "      buttonEl.style.display =\n",
              "        google.colab.kernel.accessAllowed ? 'block' : 'none';\n",
              "\n",
              "      buttonEl.onclick = () => {\n",
              "        google.colab.notebook.generateWithVariable('metric_df');\n",
              "      }\n",
              "      })();\n",
              "    </script>\n",
              "  </div>\n",
              "\n",
              "    </div>\n",
              "  </div>\n"
            ],
            "application/vnd.google.colaboratory.intrinsic+json": {
              "type": "dataframe",
              "variable_name": "metric_df",
              "summary": "{\n  \"name\": \"metric_df\",\n  \"rows\": 5,\n  \"fields\": [\n    {\n      \"column\": \"macro_f1\",\n      \"properties\": {\n        \"dtype\": \"number\",\n        \"std\": 0.01326910917561241,\n        \"min\": 0.9145918632423898,\n        \"max\": 0.9421675601032398,\n        \"num_unique_values\": 5,\n        \"samples\": [\n          0.9371099179128025,\n          0.9177415531380695,\n          0.9409214916410339\n        ],\n        \"semantic_type\": \"\",\n        \"description\": \"\"\n      }\n    },\n    {\n      \"column\": \"number_of_components\",\n      \"properties\": {\n        \"dtype\": \"number\",\n        \"std\": 4,\n        \"min\": 9,\n        \"max\": 21,\n        \"num_unique_values\": 3,\n        \"samples\": [\n          21,\n          14,\n          9\n        ],\n        \"semantic_type\": \"\",\n        \"description\": \"\"\n      }\n    },\n    {\n      \"column\": \"c_value\",\n      \"properties\": {\n        \"dtype\": \"number\",\n        \"std\": 0.596447818337866,\n        \"min\": 0.05,\n        \"max\": 1.5,\n        \"num_unique_values\": 5,\n        \"samples\": [\n          0.1,\n          1.5,\n          0.25\n        ],\n        \"semantic_type\": \"\",\n        \"description\": \"\"\n      }\n    },\n    {\n      \"column\": \"variance_retained\",\n      \"properties\": {\n        \"dtype\": \"number\",\n        \"std\": 0.0383405790253616,\n        \"min\": 0.9,\n        \"max\": 0.99,\n        \"num_unique_values\": 3,\n        \"samples\": [\n          0.99,\n          0.95,\n          0.9\n        ],\n        \"semantic_type\": \"\",\n        \"description\": \"\"\n      }\n    }\n  ]\n}"
            }
          },
          "metadata": {},
          "execution_count": 72
        }
      ]
    },
    {
      "cell_type": "code",
      "source": [
        "logisticRegr = LogisticRegression(C=1.0, solver=\"saga\", penalty=\"elasticnet\", l1_ratio=0.7, max_iter=1400)\n",
        "estimator = logisticRegr.fit(to.train.xs, to.train.y)\n",
        "\n",
        "# predicting and calculating score\n",
        "pred_y = estimator.predict(to_test.train.xs)\n",
        "macro_f1 = f1_score(to_test.train.y, pred_y, average='macro')\n",
        "acc_score = accuracy_score(to_test.train.y, pred_y)\n",
        "\n",
        "print(f\"Macro f1 score of ligistic Regression on the test set: {macro_f1}\")\n",
        "print(f\"accuarcy score of ligistic Regression on the test set: {acc_score}\")"
      ],
      "metadata": {
        "colab": {
          "base_uri": "https://localhost:8080/"
        },
        "id": "YUgXgE8pBNkg",
        "outputId": "e9cadfe6-11a5-453e-84fd-30cc8d4fcabc"
      },
      "execution_count": null,
      "outputs": [
        {
          "output_type": "stream",
          "name": "stdout",
          "text": [
            "Macro f1 score of ligistic Regression on the test set: 0.9262285740119363\n",
            "accuarcy score of ligistic Regression on the test set: 0.9256871394638616\n"
          ]
        }
      ]
    },
    {
      "cell_type": "code",
      "source": [
        "# fitting PCA to a variance\n",
        "pca = PCA(n_components=0.99)\n",
        "pca.fit(to.train.xs)\n",
        "\n",
        "# apply transformation\n",
        "xs = pca.transform(to.train.xs)\n",
        "test_xs = pca.transform(to_test.train.xs)\n",
        "\n",
        "# fitting logistic regression\n",
        "logisticRegr = LogisticRegression(C=0.05, solver='saga', penalty=\"elasticnet\", l1_ratio=0.5, max_iter=1300)\n",
        "estimator = logisticRegr.fit(xs, to.train.y)\n",
        "\n",
        "# predicting and calculating score\n",
        "pred_y = estimator.predict(test_xs)\n",
        "macro_f1 = f1_score(to_test.train.y, pred_y, average='macro')\n",
        "acc_score = accuracy_score(to_test.train.y, pred_y)\n",
        "\n",
        "print(f\"Macro f1 score of ligistic Regression on the test set: {macro_f1}\")\n",
        "print(f\"accuarcy score of ligistic Regression on the test set: {acc_score}\")"
      ],
      "metadata": {
        "colab": {
          "base_uri": "https://localhost:8080/"
        },
        "id": "De3iOaunhdzc",
        "outputId": "f63f8c77-2bd0-48ea-dd61-f802ec06c113"
      },
      "execution_count": null,
      "outputs": [
        {
          "output_type": "stream",
          "name": "stdout",
          "text": [
            "Macro f1 score of ligistic Regression on the test set: 0.9117655676736617\n",
            "accuarcy score of ligistic Regression on the test set: 0.9117746861214795\n"
          ]
        }
      ]
    },
    {
      "cell_type": "markdown",
      "source": [
        "We got almost the same accuarcy while also reducing the number of features by 30."
      ],
      "metadata": {
        "id": "2V7twANPUCrd"
      }
    },
    {
      "cell_type": "markdown",
      "source": [
        "## Using neural net\n",
        "\n",
        "Trying a simple multi-layer preceptron."
      ],
      "metadata": {
        "id": "eic9QYz5WZmI"
      }
    },
    {
      "cell_type": "code",
      "source": [
        "dls = to.dataloaders(512)"
      ],
      "metadata": {
        "id": "GV5MH_T4f9D1"
      },
      "execution_count": null,
      "outputs": []
    },
    {
      "cell_type": "code",
      "source": [
        "learn = tabular_learner(dls, layers=[500, 250])"
      ],
      "metadata": {
        "id": "GWusWincK5RZ"
      },
      "execution_count": null,
      "outputs": []
    },
    {
      "cell_type": "code",
      "source": [
        "learn.lr_find()"
      ],
      "metadata": {
        "colab": {
          "base_uri": "https://localhost:8080/",
          "height": 526
        },
        "id": "CDA8JzfdiIIR",
        "outputId": "3989594a-4dc0-4a12-c801-4215065f109b"
      },
      "execution_count": null,
      "outputs": [
        {
          "output_type": "display_data",
          "data": {
            "text/plain": [
              "<IPython.core.display.HTML object>"
            ],
            "text/html": [
              "\n",
              "<style>\n",
              "    /* Turns off some styling */\n",
              "    progress {\n",
              "        /* gets rid of default border in Firefox and Opera. */\n",
              "        border: none;\n",
              "        /* Needs to be in here for Safari polyfill so background images work as expected. */\n",
              "        background-size: auto;\n",
              "    }\n",
              "    progress:not([value]), progress:not([value])::-webkit-progress-bar {\n",
              "        background: repeating-linear-gradient(45deg, #7e7e7e, #7e7e7e 10px, #5c5c5c 10px, #5c5c5c 20px);\n",
              "    }\n",
              "    .progress-bar-interrupted, .progress-bar-interrupted::-webkit-progress-bar {\n",
              "        background: #F44336;\n",
              "    }\n",
              "</style>\n"
            ]
          },
          "metadata": {}
        },
        {
          "output_type": "display_data",
          "data": {
            "text/plain": [
              "<IPython.core.display.HTML object>"
            ],
            "text/html": []
          },
          "metadata": {}
        },
        {
          "output_type": "stream",
          "name": "stderr",
          "text": [
            "/usr/local/lib/python3.10/dist-packages/fastai/learner.py:53: FutureWarning: You are using `torch.load` with `weights_only=False` (the current default value), which uses the default pickle module implicitly. It is possible to construct malicious pickle data which will execute arbitrary code during unpickling (See https://github.com/pytorch/pytorch/blob/main/SECURITY.md#untrusted-models for more details). In a future release, the default value for `weights_only` will be flipped to `True`. This limits the functions that could be executed during unpickling. Arbitrary objects will no longer be allowed to be loaded via this mode unless they are explicitly allowlisted by the user via `torch.serialization.add_safe_globals`. We recommend you start setting `weights_only=True` for any use case where you don't have full control of the loaded file. Please open an issue on GitHub for any issues related to this experimental feature.\n",
            "  state = torch.load(file, map_location=device, **torch_load_kwargs)\n"
          ]
        },
        {
          "output_type": "execute_result",
          "data": {
            "text/plain": [
              "SuggestedLRs(valley=0.0005754399462603033)"
            ]
          },
          "metadata": {},
          "execution_count": 83
        },
        {
          "output_type": "display_data",
          "data": {
            "text/plain": [
              "<Figure size 640x480 with 1 Axes>"
            ],
            "image/png": "[encoded data removed]"
          },
          "metadata": {}
        }
      ]
    },
    {
      "cell_type": "code",
      "source": [
        "learn.fit_one_cycle(10, 3e-2)"
      ],
      "metadata": {
        "colab": {
          "base_uri": "https://localhost:8080/",
          "height": 363
        },
        "id": "YTlAKFTjiPGK",
        "outputId": "b23afc4f-b245-45b9-b2f1-b6339dc90586"
      },
      "execution_count": null,
      "outputs": [
        {
          "output_type": "display_data",
          "data": {
            "text/plain": [
              "<IPython.core.display.HTML object>"
            ],
            "text/html": [
              "\n",
              "<style>\n",
              "    /* Turns off some styling */\n",
              "    progress {\n",
              "        /* gets rid of default border in Firefox and Opera. */\n",
              "        border: none;\n",
              "        /* Needs to be in here for Safari polyfill so background images work as expected. */\n",
              "        background-size: auto;\n",
              "    }\n",
              "    progress:not([value]), progress:not([value])::-webkit-progress-bar {\n",
              "        background: repeating-linear-gradient(45deg, #7e7e7e, #7e7e7e 10px, #5c5c5c 10px, #5c5c5c 20px);\n",
              "    }\n",
              "    .progress-bar-interrupted, .progress-bar-interrupted::-webkit-progress-bar {\n",
              "        background: #F44336;\n",
              "    }\n",
              "</style>\n"
            ]
          },
          "metadata": {}
        },
        {
          "output_type": "display_data",
          "data": {
            "text/plain": [
              "<IPython.core.display.HTML object>"
            ],
            "text/html": [
              "<table border=\"1\" class=\"dataframe\">\n",
              "  <thead>\n",
              "    <tr style=\"text-align: left;\">\n",
              "      <th>epoch</th>\n",
              "      <th>train_loss</th>\n",
              "      <th>valid_loss</th>\n",
              "      <th>time</th>\n",
              "    </tr>\n",
              "  </thead>\n",
              "  <tbody>\n",
              "    <tr>\n",
              "      <td>0</td>\n",
              "      <td>0.417090</td>\n",
              "      <td>0.259273</td>\n",
              "      <td>00:00</td>\n",
              "    </tr>\n",
              "    <tr>\n",
              "      <td>1</td>\n",
              "      <td>0.260617</td>\n",
              "      <td>0.178099</td>\n",
              "      <td>00:00</td>\n",
              "    </tr>\n",
              "    <tr>\n",
              "      <td>2</td>\n",
              "      <td>0.212959</td>\n",
              "      <td>0.129884</td>\n",
              "      <td>00:00</td>\n",
              "    </tr>\n",
              "    <tr>\n",
              "      <td>3</td>\n",
              "      <td>0.177681</td>\n",
              "      <td>0.500631</td>\n",
              "      <td>00:00</td>\n",
              "    </tr>\n",
              "    <tr>\n",
              "      <td>4</td>\n",
              "      <td>0.166331</td>\n",
              "      <td>0.183116</td>\n",
              "      <td>00:00</td>\n",
              "    </tr>\n",
              "    <tr>\n",
              "      <td>5</td>\n",
              "      <td>0.153983</td>\n",
              "      <td>0.118435</td>\n",
              "      <td>00:00</td>\n",
              "    </tr>\n",
              "    <tr>\n",
              "      <td>6</td>\n",
              "      <td>0.135843</td>\n",
              "      <td>0.083643</td>\n",
              "      <td>00:00</td>\n",
              "    </tr>\n",
              "    <tr>\n",
              "      <td>7</td>\n",
              "      <td>0.121639</td>\n",
              "      <td>0.098327</td>\n",
              "      <td>00:00</td>\n",
              "    </tr>\n",
              "    <tr>\n",
              "      <td>8</td>\n",
              "      <td>0.107940</td>\n",
              "      <td>0.088330</td>\n",
              "      <td>00:00</td>\n",
              "    </tr>\n",
              "    <tr>\n",
              "      <td>9</td>\n",
              "      <td>0.097622</td>\n",
              "      <td>0.078242</td>\n",
              "      <td>00:00</td>\n",
              "    </tr>\n",
              "  </tbody>\n",
              "</table>"
            ]
          },
          "metadata": {}
        }
      ]
    },
    {
      "cell_type": "code",
      "source": [
        "dl_test = learn.dls.test_dl(to_test.train.xs)\n",
        "pred = learn.get_preds(dl= dl_test)"
      ],
      "metadata": {
        "colab": {
          "base_uri": "https://localhost:8080/",
          "height": 17
        },
        "id": "YK2XN1WMieMD",
        "outputId": "604be978-0765-4f71-c28e-02a49eb1b01b"
      },
      "execution_count": null,
      "outputs": [
        {
          "output_type": "display_data",
          "data": {
            "text/plain": [
              "<IPython.core.display.HTML object>"
            ],
            "text/html": [
              "\n",
              "<style>\n",
              "    /* Turns off some styling */\n",
              "    progress {\n",
              "        /* gets rid of default border in Firefox and Opera. */\n",
              "        border: none;\n",
              "        /* Needs to be in here for Safari polyfill so background images work as expected. */\n",
              "        background-size: auto;\n",
              "    }\n",
              "    progress:not([value]), progress:not([value])::-webkit-progress-bar {\n",
              "        background: repeating-linear-gradient(45deg, #7e7e7e, #7e7e7e 10px, #5c5c5c 10px, #5c5c5c 20px);\n",
              "    }\n",
              "    .progress-bar-interrupted, .progress-bar-interrupted::-webkit-progress-bar {\n",
              "        background: #F44336;\n",
              "    }\n",
              "</style>\n"
            ]
          },
          "metadata": {}
        },
        {
          "output_type": "display_data",
          "data": {
            "text/plain": [
              "<IPython.core.display.HTML object>"
            ],
            "text/html": []
          },
          "metadata": {}
        }
      ]
    },
    {
      "cell_type": "code",
      "source": [
        "to.procs.vocab"
      ],
      "metadata": {
        "colab": {
          "base_uri": "https://localhost:8080/"
        },
        "id": "GMfMP7d0P5eM",
        "outputId": "8971b158-df55-4892-fe1c-bc383ee00ae6"
      },
      "execution_count": null,
      "outputs": [
        {
          "output_type": "execute_result",
          "data": {
            "text/plain": [
              "['LAYING', 'SITTING', 'STANDING', 'WALKING', 'WALKING_DOWNSTAIRS', 'WALKING_UPSTAIRS']"
            ]
          },
          "metadata": {},
          "execution_count": 88
        }
      ]
    },
    {
      "cell_type": "code",
      "source": [
        "to_test.procs.vocab"
      ],
      "metadata": {
        "colab": {
          "base_uri": "https://localhost:8080/"
        },
        "id": "oEJzViUEQem8",
        "outputId": "58c0c369-5f27-4673-d031-e0a6ca66db23"
      },
      "execution_count": null,
      "outputs": [
        {
          "output_type": "execute_result",
          "data": {
            "text/plain": [
              "['LAYING', 'SITTING', 'STANDING', 'WALKING', 'WALKING_DOWNSTAIRS', 'WALKING_UPSTAIRS']"
            ]
          },
          "metadata": {},
          "execution_count": 89
        }
      ]
    },
    {
      "cell_type": "code",
      "source": [
        "macro_f1 = f1_score(to_test.train.y, pred_final, average='macro')\n",
        "acc_score = accuracy_score(to_test.train.y, pred_final)\n",
        "\n",
        "print(f\"Macro f1 score of neural net: {macro_f1}\")\n",
        "print(f\"accuracy score of neural net: {acc_score}\")"
      ],
      "metadata": {
        "colab": {
          "base_uri": "https://localhost:8080/"
        },
        "id": "5zdbmebVjKF3",
        "outputId": "090b37aa-cdce-4995-ce68-072b89a0d3cf"
      },
      "execution_count": null,
      "outputs": [
        {
          "output_type": "stream",
          "name": "stdout",
          "text": [
            "Macro f1 score of neural net: 0.7690880313055221\n",
            "accuracy score of neural net: 0.7804546996946047\n"
          ]
        }
      ]
    },
    {
      "cell_type": "markdown",
      "source": [
        "It didn't get as accurate as the logistic regression"
      ],
      "metadata": {
        "id": "-03seyhfUfxa"
      }
    },
    {
      "cell_type": "markdown",
      "source": [
        "## USING CNN\n",
        "\n",
        "trying a basic and one-dimensional convolutional neural networks (Conv1D)"
      ],
      "metadata": {
        "id": "dIDP5UWERPko"
      }
    },
    {
      "cell_type": "code",
      "source": [
        "import torch\n",
        "import torch.nn as nn\n",
        "import torch.optim as optim\n",
        "import torch.nn.functional as F\n",
        "\n",
        "batch_size = 128\n",
        "input_channels = 1\n",
        "input_length = len(to.train.xs.columns)\n",
        "output_channels = 6\n",
        "\n",
        "device = torch.device(\"cuda:0\" if torch.cuda.is_available() else \"cpu\")\n",
        "# Convert to PyTorch tensors\n",
        "xs = to.train.xs.to_numpy()\n",
        "y = to.train.y.to_numpy()\n",
        "x_train = torch.tensor(xs, dtype=torch.float).reshape(5881, 1, 51)\n",
        "labels = torch.tensor(y, dtype=torch.long)\n",
        "\n",
        "# Define data loaders\n",
        "train_loader = torch.utils.data.DataLoader(\n",
        "    torch.utils.data.TensorDataset(x_train, labels),\n",
        "    batch_size=batch_size,\n",
        "    shuffle=True\n",
        ")\n",
        "\n",
        "# Define the CNN model\n",
        "class SimpleCNN1D(nn.Module):\n",
        "    def __init__(self, input_channels, output_channels, input_length):\n",
        "        super(SimpleCNN1D, self).__init__()\n",
        "        self.conv1 = nn.Conv1d(input_channels, 16, kernel_size=3, padding=1)\n",
        "        self.pool = nn.MaxPool1d(kernel_size=2, stride=2)\n",
        "        self.fc1 = nn.Linear(16 * 25, 128)\n",
        "        self.fc2 = nn.Linear(128, output_channels)\n",
        "\n",
        "    def forward(self, x):\n",
        "        x = self.pool(F.relu(self.conv1(x)))\n",
        "        x = x.view(-1, 16 * (x.size(2)))\n",
        "        x = F.relu(self.fc1(x))\n",
        "        x = self.fc2(x)\n",
        "        return x\n",
        "\n",
        "# Create the model, optimizer, and loss function\n",
        "model = SimpleCNN1D(input_channels, output_channels, input_length)\n",
        "optimizer = optim.Adam(model.parameters())\n",
        "criterion = nn.CrossEntropyLoss()\n",
        "\n",
        "# Training loop\n",
        "for epoch in range(10):\n",
        "    loss = 0.0\n",
        "    for data, labels in train_loader:\n",
        "        optimizer.zero_grad()\n",
        "        outputs = model(data)\n",
        "        loss = criterion(outputs, labels)\n",
        "        loss.backward()\n",
        "        optimizer.step()\n",
        "    print(f\"loss is: {loss}\")\n",
        "print(\"done Training\")"
      ],
      "metadata": {
        "colab": {
          "base_uri": "https://localhost:8080/"
        },
        "id": "8AiGKo-FdX6A",
        "outputId": "093c9e2f-d2c1-43cb-e9d0-8ab3b15e856c"
      },
      "execution_count": null,
      "outputs": [
        {
          "output_type": "stream",
          "name": "stdout",
          "text": [
            "loss is: 0.18753667175769806\n",
            "loss is: 0.15740472078323364\n",
            "loss is: 0.16052217781543732\n",
            "loss is: 0.09209123998880386\n",
            "loss is: 0.1307346373796463\n",
            "loss is: 0.1014927476644516\n",
            "loss is: 0.05032322183251381\n",
            "loss is: 0.07383766770362854\n",
            "loss is: 0.07696586847305298\n",
            "loss is: 0.1028214618563652\n",
            "done Training\n"
          ]
        }
      ]
    },
    {
      "cell_type": "code",
      "source": [
        "xs_test = to_test.train.xs.to_numpy()\n",
        "y = to_test.train.y.to_numpy()\n",
        "x_train_t = torch.tensor(xs_test, dtype=torch.float).reshape(2947, 1, 51)\n",
        "labels_t = torch.tensor(to_test.train.y, dtype=torch.long)\n",
        "\n",
        "# Define data loaders\n",
        "test_loader = torch.utils.data.DataLoader(\n",
        "    torch.utils.data.TensorDataset(x_train_t, labels_t),\n",
        "    batch_size=128,\n",
        "    shuffle=True\n",
        ")\n",
        "\n",
        "preds = []\n",
        "\n",
        "# Evaluation\n",
        "with torch.no_grad():\n",
        "    for images, labels in test_loader:\n",
        "        outputs = model(images)\n",
        "        preds.extend(outputs.argmax(dim=1))\n",
        "\n",
        "macro_f1 = f1_score(to_test.train.y, preds, average='macro')\n",
        "\n",
        "print(f\"Macro f1 score of random forest using most important features: {macro_f1}\")"
      ],
      "metadata": {
        "colab": {
          "base_uri": "https://localhost:8080/"
        },
        "id": "Pu5DHgQfg89u",
        "outputId": "1f9a216a-2f89-4b36-c742-87ef7cfc30f9"
      },
      "execution_count": null,
      "outputs": [
        {
          "output_type": "stream",
          "name": "stdout",
          "text": [
            "Macro f1 score of random forest using most important features: 0.15856752524888482\n"
          ]
        }
      ]
    },
    {
      "cell_type": "markdown",
      "source": [
        "The model performed very bad, which suggest bad model choice."
      ],
      "metadata": {
        "id": "tX575ngYVBPG"
      }
    },
    {
      "cell_type": "markdown",
      "source": [
        "## Conclusion\n",
        "\n",
        "Our analysis demonstrates that for this particular dataset, traditional machine learning techniques, such as logistic regression and MLP, outperform more complex models like Conv1D. The key advantage lies in the meticulous feature selection and exploratory data analysis (EDA) conducted prior to model building. By carefully identifying and preparing relevant features, we can create a strong foundation for simpler models to excel."
      ],
      "metadata": {
        "id": "NHuElbjZVX5R"
      }
    }
  ]
}